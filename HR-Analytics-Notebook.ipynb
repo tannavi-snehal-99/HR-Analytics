{
 "cells": [
  {
   "cell_type": "markdown",
   "metadata": {},
   "source": [
    "# HR Analytics"
   ]
  },
  {
   "cell_type": "markdown",
   "metadata": {},
   "source": [
    "Importing required libraries"
   ]
  },
  {
   "cell_type": "code",
   "execution_count": 1,
   "metadata": {},
   "outputs": [],
   "source": [
    "import pandas as pd\n",
    "import numpy as np\n",
    "import seaborn as sns\n",
    "from matplotlib import pyplot as plt\n",
    "from sklearn.feature_selection import VarianceThreshold\n",
    "from collections import Counter\n",
    "from sklearn.datasets import make_classification\n",
    "from imblearn.over_sampling import RandomOverSampler\n",
    "from imblearn.under_sampling import RandomUnderSampler\n",
    "from numpy import mean\n",
    "from sklearn.model_selection import cross_val_score\n",
    "from sklearn.model_selection import RepeatedStratifiedKFold\n",
    "from sklearn.model_selection import StratifiedKFold\n",
    "from sklearn.ensemble import RandomForestClassifier\n",
    "from imblearn.pipeline import Pipeline\n",
    "from sklearn.ensemble import BaggingClassifier\n",
    "from sklearn.ensemble import GradientBoostingClassifier\n",
    "import warnings\n",
    "warnings.filterwarnings('ignore')"
   ]
  },
  {
   "cell_type": "markdown",
   "metadata": {},
   "source": [
    "Reading Data"
   ]
  },
  {
   "cell_type": "code",
   "execution_count": 2,
   "metadata": {},
   "outputs": [
    {
     "data": {
      "text/html": [
       "<div>\n",
       "<style scoped>\n",
       "    .dataframe tbody tr th:only-of-type {\n",
       "        vertical-align: middle;\n",
       "    }\n",
       "\n",
       "    .dataframe tbody tr th {\n",
       "        vertical-align: top;\n",
       "    }\n",
       "\n",
       "    .dataframe thead th {\n",
       "        text-align: right;\n",
       "    }\n",
       "</style>\n",
       "<table border=\"1\" class=\"dataframe\">\n",
       "  <thead>\n",
       "    <tr style=\"text-align: right;\">\n",
       "      <th></th>\n",
       "      <th>employee_id</th>\n",
       "      <th>department</th>\n",
       "      <th>region</th>\n",
       "      <th>education</th>\n",
       "      <th>gender</th>\n",
       "      <th>recruitment_channel</th>\n",
       "      <th>no_of_trainings</th>\n",
       "      <th>age</th>\n",
       "      <th>previous_year_rating</th>\n",
       "      <th>length_of_service</th>\n",
       "      <th>KPIs_met &gt;80%</th>\n",
       "      <th>awards_won?</th>\n",
       "      <th>avg_training_score</th>\n",
       "      <th>is_promoted</th>\n",
       "    </tr>\n",
       "  </thead>\n",
       "  <tbody>\n",
       "    <tr>\n",
       "      <th>0</th>\n",
       "      <td>65438</td>\n",
       "      <td>Sales &amp; Marketing</td>\n",
       "      <td>region_7</td>\n",
       "      <td>Master's &amp; above</td>\n",
       "      <td>f</td>\n",
       "      <td>sourcing</td>\n",
       "      <td>1</td>\n",
       "      <td>35</td>\n",
       "      <td>5.0</td>\n",
       "      <td>8</td>\n",
       "      <td>1</td>\n",
       "      <td>0</td>\n",
       "      <td>49</td>\n",
       "      <td>0</td>\n",
       "    </tr>\n",
       "    <tr>\n",
       "      <th>1</th>\n",
       "      <td>65141</td>\n",
       "      <td>Operations</td>\n",
       "      <td>region_22</td>\n",
       "      <td>Bachelor's</td>\n",
       "      <td>m</td>\n",
       "      <td>other</td>\n",
       "      <td>1</td>\n",
       "      <td>30</td>\n",
       "      <td>5.0</td>\n",
       "      <td>4</td>\n",
       "      <td>0</td>\n",
       "      <td>0</td>\n",
       "      <td>60</td>\n",
       "      <td>0</td>\n",
       "    </tr>\n",
       "    <tr>\n",
       "      <th>2</th>\n",
       "      <td>7513</td>\n",
       "      <td>Sales &amp; Marketing</td>\n",
       "      <td>region_19</td>\n",
       "      <td>Bachelor's</td>\n",
       "      <td>m</td>\n",
       "      <td>sourcing</td>\n",
       "      <td>1</td>\n",
       "      <td>34</td>\n",
       "      <td>3.0</td>\n",
       "      <td>7</td>\n",
       "      <td>0</td>\n",
       "      <td>0</td>\n",
       "      <td>50</td>\n",
       "      <td>0</td>\n",
       "    </tr>\n",
       "    <tr>\n",
       "      <th>3</th>\n",
       "      <td>2542</td>\n",
       "      <td>Sales &amp; Marketing</td>\n",
       "      <td>region_23</td>\n",
       "      <td>Bachelor's</td>\n",
       "      <td>m</td>\n",
       "      <td>other</td>\n",
       "      <td>2</td>\n",
       "      <td>39</td>\n",
       "      <td>1.0</td>\n",
       "      <td>10</td>\n",
       "      <td>0</td>\n",
       "      <td>0</td>\n",
       "      <td>50</td>\n",
       "      <td>0</td>\n",
       "    </tr>\n",
       "    <tr>\n",
       "      <th>4</th>\n",
       "      <td>48945</td>\n",
       "      <td>Technology</td>\n",
       "      <td>region_26</td>\n",
       "      <td>Bachelor's</td>\n",
       "      <td>m</td>\n",
       "      <td>other</td>\n",
       "      <td>1</td>\n",
       "      <td>45</td>\n",
       "      <td>3.0</td>\n",
       "      <td>2</td>\n",
       "      <td>0</td>\n",
       "      <td>0</td>\n",
       "      <td>73</td>\n",
       "      <td>0</td>\n",
       "    </tr>\n",
       "  </tbody>\n",
       "</table>\n",
       "</div>"
      ],
      "text/plain": [
       "   employee_id         department     region         education gender  \\\n",
       "0        65438  Sales & Marketing   region_7  Master's & above      f   \n",
       "1        65141         Operations  region_22        Bachelor's      m   \n",
       "2         7513  Sales & Marketing  region_19        Bachelor's      m   \n",
       "3         2542  Sales & Marketing  region_23        Bachelor's      m   \n",
       "4        48945         Technology  region_26        Bachelor's      m   \n",
       "\n",
       "  recruitment_channel  no_of_trainings  age  previous_year_rating  \\\n",
       "0            sourcing                1   35                   5.0   \n",
       "1               other                1   30                   5.0   \n",
       "2            sourcing                1   34                   3.0   \n",
       "3               other                2   39                   1.0   \n",
       "4               other                1   45                   3.0   \n",
       "\n",
       "   length_of_service  KPIs_met >80%  awards_won?  avg_training_score  \\\n",
       "0                  8              1            0                  49   \n",
       "1                  4              0            0                  60   \n",
       "2                  7              0            0                  50   \n",
       "3                 10              0            0                  50   \n",
       "4                  2              0            0                  73   \n",
       "\n",
       "   is_promoted  \n",
       "0            0  \n",
       "1            0  \n",
       "2            0  \n",
       "3            0  \n",
       "4            0  "
      ]
     },
     "execution_count": 2,
     "metadata": {},
     "output_type": "execute_result"
    }
   ],
   "source": [
    "data=pd.read_csv(r'train_LZdllcl.csv')\n",
    "data.head()"
   ]
  },
  {
   "cell_type": "markdown",
   "metadata": {},
   "source": [
    "# Data Pre-Processing"
   ]
  },
  {
   "cell_type": "code",
   "execution_count": 3,
   "metadata": {},
   "outputs": [
    {
     "data": {
      "text/plain": [
       "(54808, 14)"
      ]
     },
     "execution_count": 3,
     "metadata": {},
     "output_type": "execute_result"
    }
   ],
   "source": [
    "data.shape"
   ]
  },
  {
   "cell_type": "markdown",
   "metadata": {},
   "source": [
    "Checking for duplicated rows "
   ]
  },
  {
   "cell_type": "code",
   "execution_count": 4,
   "metadata": {},
   "outputs": [
    {
     "data": {
      "text/plain": [
       "0"
      ]
     },
     "execution_count": 4,
     "metadata": {},
     "output_type": "execute_result"
    }
   ],
   "source": [
    "data.duplicated().sum()"
   ]
  },
  {
   "cell_type": "markdown",
   "metadata": {},
   "source": [
    "Checking the co-relation between columns"
   ]
  },
  {
   "cell_type": "code",
   "execution_count": 5,
   "metadata": {},
   "outputs": [
    {
     "data": {
      "text/plain": [
       "<matplotlib.axes._subplots.AxesSubplot at 0x25facbc4988>"
      ]
     },
     "execution_count": 5,
     "metadata": {},
     "output_type": "execute_result"
    },
    {
     "data": {
      "image/png": "[encoded data removed]",
      "text/plain": [
       "<Figure size 576x576 with 2 Axes>"
      ]
     },
     "metadata": {
      "needs_background": "light"
     },
     "output_type": "display_data"
    }
   ],
   "source": [
    "fig, ax = plt.subplots(figsize=(8,8))\n",
    "sns.heatmap(data.corr(), annot = True,ax=ax)"
   ]
  },
  {
   "cell_type": "markdown",
   "metadata": {},
   "source": [
    "Thus it can be seen that age is co-related to length of service and KPI>80% is related to the previous year ratings"
   ]
  },
  {
   "cell_type": "markdown",
   "metadata": {},
   "source": [
    "previous_year_rating, KPI, awards_won and avg_training_score are compartively more related to the output label"
   ]
  },
  {
   "cell_type": "code",
   "execution_count": 6,
   "metadata": {},
   "outputs": [
    {
     "data": {
      "text/plain": [
       "employee_id             54808\n",
       "department                  9\n",
       "region                     34\n",
       "education                   3\n",
       "gender                      2\n",
       "recruitment_channel         3\n",
       "no_of_trainings            10\n",
       "age                        41\n",
       "previous_year_rating        5\n",
       "length_of_service          35\n",
       "KPIs_met >80%               2\n",
       "awards_won?                 2\n",
       "avg_training_score         61\n",
       "is_promoted                 2\n",
       "dtype: int64"
      ]
     },
     "execution_count": 6,
     "metadata": {},
     "output_type": "execute_result"
    }
   ],
   "source": [
    "data.nunique()"
   ]
  },
  {
   "cell_type": "markdown",
   "metadata": {},
   "source": [
    "Employee id has unique values for each row\n",
    "\n",
    "Gender has only 2 values -male/female\n",
    "\n",
    "previous_year_rating has only 5 values - 1.0 to 5.0\n",
    "\n",
    "KPIs_met >80%  and awards_won?  has either true/false values i.e 0/1\n",
    "\n",
    "Inference : No Constant columns are present"
   ]
  },
  {
   "cell_type": "code",
   "execution_count": 7,
   "metadata": {},
   "outputs": [
    {
     "data": {
      "text/plain": [
       "9"
      ]
     },
     "execution_count": 7,
     "metadata": {},
     "output_type": "execute_result"
    }
   ],
   "source": [
    "sel = VarianceThreshold(threshold=0.01)  # 0.1 indicates 99% of observations approximately\n",
    "\n",
    "sel.fit(data[['employee_id', \n",
    "        'no_of_trainings', 'age', 'previous_year_rating',\n",
    "       'length_of_service', 'KPIs_met >80%', 'awards_won?',\n",
    "       'avg_training_score', 'is_promoted']])\n",
    "\n",
    "sum(sel.get_support())"
   ]
  },
  {
   "cell_type": "markdown",
   "metadata": {},
   "source": [
    "No Quasi Constant columns present"
   ]
  },
  {
   "cell_type": "markdown",
   "metadata": {},
   "source": [
    "Checking for null values"
   ]
  },
  {
   "cell_type": "code",
   "execution_count": 8,
   "metadata": {},
   "outputs": [
    {
     "data": {
      "text/plain": [
       "employee_id                0\n",
       "department                 0\n",
       "region                     0\n",
       "education               2409\n",
       "gender                     0\n",
       "recruitment_channel        0\n",
       "no_of_trainings            0\n",
       "age                        0\n",
       "previous_year_rating    4124\n",
       "length_of_service          0\n",
       "KPIs_met >80%              0\n",
       "awards_won?                0\n",
       "avg_training_score         0\n",
       "is_promoted                0\n",
       "dtype: int64"
      ]
     },
     "execution_count": 8,
     "metadata": {},
     "output_type": "execute_result"
    }
   ],
   "source": [
    "data.isnull().sum()"
   ]
  },
  {
   "cell_type": "code",
   "execution_count": 9,
   "metadata": {},
   "outputs": [
    {
     "data": {
      "text/plain": [
       "length_of_service\n",
       "1     4124.0\n",
       "2        0.0\n",
       "3        0.0\n",
       "4        0.0\n",
       "5        0.0\n",
       "6        0.0\n",
       "7        0.0\n",
       "8        0.0\n",
       "9        0.0\n",
       "10       0.0\n",
       "11       0.0\n",
       "12       0.0\n",
       "13       0.0\n",
       "14       0.0\n",
       "15       0.0\n",
       "16       0.0\n",
       "17       0.0\n",
       "18       0.0\n",
       "19       0.0\n",
       "20       0.0\n",
       "21       0.0\n",
       "22       0.0\n",
       "23       0.0\n",
       "24       0.0\n",
       "25       0.0\n",
       "26       0.0\n",
       "27       0.0\n",
       "28       0.0\n",
       "29       0.0\n",
       "30       0.0\n",
       "31       0.0\n",
       "32       0.0\n",
       "33       0.0\n",
       "34       0.0\n",
       "37       0.0\n",
       "Name: previous_year_rating, dtype: float64"
      ]
     },
     "execution_count": 9,
     "metadata": {},
     "output_type": "execute_result"
    }
   ],
   "source": [
    "data['previous_year_rating'].isnull().groupby(data['length_of_service']).sum() "
   ]
  },
  {
   "cell_type": "markdown",
   "metadata": {},
   "source": [
    "There are null values present in only those rows whose length of service=1 i.e for new employees."
   ]
  },
  {
   "cell_type": "code",
   "execution_count": 10,
   "metadata": {},
   "outputs": [],
   "source": [
    "data.previous_year_rating=data.previous_year_rating.fillna(0.0)"
   ]
  },
  {
   "cell_type": "markdown",
   "metadata": {},
   "source": [
    "Thus imputing 0.0 as the null value for previous year rating as for new employees there is no previous year and thus no previous year rating"
   ]
  },
  {
   "cell_type": "markdown",
   "metadata": {},
   "source": [
    "Checking for the null values in education column"
   ]
  },
  {
   "cell_type": "code",
   "execution_count": 11,
   "metadata": {},
   "outputs": [
    {
     "data": {
      "text/plain": [
       "gender\n",
       "f     391.0\n",
       "m    2018.0\n",
       "Name: education, dtype: float64"
      ]
     },
     "execution_count": 11,
     "metadata": {},
     "output_type": "execute_result"
    }
   ],
   "source": [
    "data['education'].isnull().groupby(data['gender']).sum() "
   ]
  },
  {
   "cell_type": "code",
   "execution_count": 12,
   "metadata": {},
   "outputs": [
    {
     "data": {
      "text/plain": [
       "gender\n",
       "f    Bachelor's\n",
       "m    Bachelor's\n",
       "Name: education, dtype: object"
      ]
     },
     "execution_count": 12,
     "metadata": {},
     "output_type": "execute_result"
    }
   ],
   "source": [
    "data['education'].groupby(data['gender']).agg(pd.Series.mode)"
   ]
  },
  {
   "cell_type": "code",
   "execution_count": 13,
   "metadata": {},
   "outputs": [
    {
     "data": {
      "text/plain": [
       "department\n",
       "Analytics             337.0\n",
       "Finance                36.0\n",
       "HR                     32.0\n",
       "Legal                   4.0\n",
       "Operations            226.0\n",
       "Procurement            72.0\n",
       "R&D                    28.0\n",
       "Sales & Marketing    1575.0\n",
       "Technology             99.0\n",
       "Name: education, dtype: float64"
      ]
     },
     "execution_count": 13,
     "metadata": {},
     "output_type": "execute_result"
    }
   ],
   "source": [
    "data['education'].isnull().groupby(data['department']).sum() "
   ]
  },
  {
   "cell_type": "code",
   "execution_count": 14,
   "metadata": {},
   "outputs": [
    {
     "data": {
      "text/plain": [
       "department\n",
       "Analytics            Bachelor's\n",
       "Finance              Bachelor's\n",
       "HR                   Bachelor's\n",
       "Legal                Bachelor's\n",
       "Operations           Bachelor's\n",
       "Procurement          Bachelor's\n",
       "R&D                  Bachelor's\n",
       "Sales & Marketing    Bachelor's\n",
       "Technology           Bachelor's\n",
       "Name: education, dtype: object"
      ]
     },
     "execution_count": 14,
     "metadata": {},
     "output_type": "execute_result"
    }
   ],
   "source": [
    "data['education'].groupby(data['department']).agg(pd.Series.mode)"
   ]
  },
  {
   "cell_type": "code",
   "execution_count": 15,
   "metadata": {},
   "outputs": [
    {
     "data": {
      "text/plain": [
       "age\n",
       "20          Bachelor's\n",
       "21     Below Secondary\n",
       "22     Below Secondary\n",
       "23          Bachelor's\n",
       "24          Bachelor's\n",
       "25          Bachelor's\n",
       "26          Bachelor's\n",
       "27          Bachelor's\n",
       "28          Bachelor's\n",
       "29          Bachelor's\n",
       "30          Bachelor's\n",
       "31          Bachelor's\n",
       "32          Bachelor's\n",
       "33          Bachelor's\n",
       "34          Bachelor's\n",
       "35          Bachelor's\n",
       "36          Bachelor's\n",
       "37          Bachelor's\n",
       "38          Bachelor's\n",
       "39          Bachelor's\n",
       "40          Bachelor's\n",
       "41          Bachelor's\n",
       "42    Master's & above\n",
       "43          Bachelor's\n",
       "44    Master's & above\n",
       "45          Bachelor's\n",
       "46          Bachelor's\n",
       "47    Master's & above\n",
       "48          Bachelor's\n",
       "49          Bachelor's\n",
       "50    Master's & above\n",
       "51          Bachelor's\n",
       "52          Bachelor's\n",
       "53          Bachelor's\n",
       "54    Master's & above\n",
       "55          Bachelor's\n",
       "56          Bachelor's\n",
       "57    Master's & above\n",
       "58    Master's & above\n",
       "59    Master's & above\n",
       "60          Bachelor's\n",
       "Name: education, dtype: object"
      ]
     },
     "execution_count": 15,
     "metadata": {},
     "output_type": "execute_result"
    }
   ],
   "source": [
    "data['education'].groupby(data['age']).agg(pd.Series.mode)"
   ]
  },
  {
   "cell_type": "markdown",
   "metadata": {},
   "source": [
    "Found that the mode of education for some age group is different from Bachelor's thus we cannot directly use Bachelor's to fill nan"
   ]
  },
  {
   "cell_type": "code",
   "execution_count": 16,
   "metadata": {},
   "outputs": [],
   "source": [
    "data.education=data.education.groupby(data['age']).fillna(data['education'].mode()[0])"
   ]
  },
  {
   "cell_type": "markdown",
   "metadata": {},
   "source": [
    "Used a group by on age column to fill the nan with the mode of education in that particular age."
   ]
  },
  {
   "cell_type": "code",
   "execution_count": 17,
   "metadata": {},
   "outputs": [
    {
     "data": {
      "text/plain": [
       "employee_id             0\n",
       "department              0\n",
       "region                  0\n",
       "education               0\n",
       "gender                  0\n",
       "recruitment_channel     0\n",
       "no_of_trainings         0\n",
       "age                     0\n",
       "previous_year_rating    0\n",
       "length_of_service       0\n",
       "KPIs_met >80%           0\n",
       "awards_won?             0\n",
       "avg_training_score      0\n",
       "is_promoted             0\n",
       "dtype: int64"
      ]
     },
     "execution_count": 17,
     "metadata": {},
     "output_type": "execute_result"
    }
   ],
   "source": [
    "data.isnull().sum()"
   ]
  },
  {
   "cell_type": "markdown",
   "metadata": {},
   "source": [
    "Now our dataset contains no null values. The data types of the columns are :"
   ]
  },
  {
   "cell_type": "code",
   "execution_count": 18,
   "metadata": {},
   "outputs": [
    {
     "data": {
      "text/plain": [
       "employee_id               int64\n",
       "department               object\n",
       "region                   object\n",
       "education                object\n",
       "gender                   object\n",
       "recruitment_channel      object\n",
       "no_of_trainings           int64\n",
       "age                       int64\n",
       "previous_year_rating    float64\n",
       "length_of_service         int64\n",
       "KPIs_met >80%             int64\n",
       "awards_won?               int64\n",
       "avg_training_score        int64\n",
       "is_promoted               int64\n",
       "dtype: object"
      ]
     },
     "execution_count": 18,
     "metadata": {},
     "output_type": "execute_result"
    }
   ],
   "source": [
    "data.dtypes"
   ]
  },
  {
   "cell_type": "markdown",
   "metadata": {},
   "source": [
    "Checking for constant columns in the data set"
   ]
  },
  {
   "cell_type": "code",
   "execution_count": 19,
   "metadata": {},
   "outputs": [
    {
     "data": {
      "text/plain": [
       "0"
      ]
     },
     "execution_count": 19,
     "metadata": {},
     "output_type": "execute_result"
    }
   ],
   "source": [
    "data_transposed = data.T\n",
    "data_transposed.duplicated().sum()"
   ]
  },
  {
   "cell_type": "code",
   "execution_count": 20,
   "metadata": {},
   "outputs": [
    {
     "data": {
      "text/plain": [
       "54808"
      ]
     },
     "execution_count": 20,
     "metadata": {},
     "output_type": "execute_result"
    }
   ],
   "source": [
    "data['employee_id'].nunique()"
   ]
  },
  {
   "cell_type": "code",
   "execution_count": 21,
   "metadata": {},
   "outputs": [
    {
     "data": {
      "text/plain": [
       "employee_id               int64\n",
       "department               object\n",
       "region                   object\n",
       "education                object\n",
       "gender                   object\n",
       "recruitment_channel      object\n",
       "no_of_trainings           int64\n",
       "age                       int64\n",
       "previous_year_rating    float64\n",
       "length_of_service         int64\n",
       "KPIs_met >80%             int64\n",
       "awards_won?               int64\n",
       "avg_training_score        int64\n",
       "is_promoted               int64\n",
       "dtype: object"
      ]
     },
     "execution_count": 21,
     "metadata": {},
     "output_type": "execute_result"
    }
   ],
   "source": [
    "data.dtypes"
   ]
  },
  {
   "cell_type": "markdown",
   "metadata": {},
   "source": [
    "# Exploratory data analysis"
   ]
  },
  {
   "cell_type": "code",
   "execution_count": 22,
   "metadata": {},
   "outputs": [
    {
     "data": {
      "text/plain": [
       "0    50140\n",
       "1     4668\n",
       "Name: is_promoted, dtype: int64"
      ]
     },
     "execution_count": 22,
     "metadata": {},
     "output_type": "execute_result"
    }
   ],
   "source": [
    "#around 8.5% employees are promoted\n",
    "\n",
    "data['is_promoted'].value_counts()"
   ]
  },
  {
   "cell_type": "code",
   "execution_count": 23,
   "metadata": {},
   "outputs": [
    {
     "data": {
      "text/plain": [
       "age\n",
       "20      4\n",
       "21      5\n",
       "22     18\n",
       "23     34\n",
       "24     70\n",
       "25     69\n",
       "26    163\n",
       "27    261\n",
       "28    308\n",
       "29    294\n",
       "30    324\n",
       "31    310\n",
       "32    297\n",
       "33    319\n",
       "34    286\n",
       "35    283\n",
       "36    208\n",
       "37    184\n",
       "38    184\n",
       "39    161\n",
       "40    127\n",
       "41    104\n",
       "42     91\n",
       "43     77\n",
       "44     70\n",
       "45     48\n",
       "46     43\n",
       "47     27\n",
       "48     44\n",
       "49     33\n",
       "50     31\n",
       "51     34\n",
       "52     28\n",
       "53     14\n",
       "54     24\n",
       "55     18\n",
       "56     21\n",
       "57      5\n",
       "58     16\n",
       "59     17\n",
       "60     14\n",
       "Name: is_promoted, dtype: int64"
      ]
     },
     "execution_count": 23,
     "metadata": {},
     "output_type": "execute_result"
    }
   ],
   "source": [
    "data.groupby('age')['is_promoted'].sum()"
   ]
  },
  {
   "cell_type": "markdown",
   "metadata": {},
   "source": [
    "We can see that the more employees are promoted in the range of 30-40 and less in the range of 50-60"
   ]
  },
  {
   "cell_type": "code",
   "execution_count": 24,
   "metadata": {},
   "outputs": [],
   "source": [
    "data['age_group']=(np.where(np.logical_and(data['age']>=20 ,data['age']<=30),1,\n",
    "                            np.where(np.logical_and(data['age']>=31 ,data['age']<=40),2,\n",
    "                             np.where(np.logical_and(data['age']>=41 ,data['age']<=50),3,\n",
    "                             np.where(np.logical_and(data['age']>=51 ,data['age']<=60),4,\n",
    "                              np.where(np.logical_and(data['age']>=61 ,data['age']<=70),5,np.nan)       )        )       )))"
   ]
  },
  {
   "cell_type": "code",
   "execution_count": 25,
   "metadata": {},
   "outputs": [
    {
     "data": {
      "text/plain": [
       "age_group\n",
       "1.0    0.085550\n",
       "2.0    0.090633\n",
       "3.0    0.072727\n",
       "4.0    0.066971\n",
       "Name: is_promoted, dtype: float64"
      ]
     },
     "execution_count": 25,
     "metadata": {},
     "output_type": "execute_result"
    }
   ],
   "source": [
    "data['is_promoted'].groupby(data['age_group']).mean()"
   ]
  },
  {
   "cell_type": "markdown",
   "metadata": {},
   "source": [
    "From the above analysis it is also clear that the employees belonging to the 2nd age group i.e 30-40 recieve more promotions compartively from the other age groups."
   ]
  },
  {
   "cell_type": "code",
   "execution_count": 26,
   "metadata": {},
   "outputs": [
    {
     "data": {
      "text/plain": [
       "<matplotlib.axes._subplots.AxesSubplot at 0x25fad30ff88>"
      ]
     },
     "execution_count": 26,
     "metadata": {},
     "output_type": "execute_result"
    },
    {
     "data": {
      "image/png": "[encoded data removed]",
      "text/plain": [
       "<Figure size 432x288 with 1 Axes>"
      ]
     },
     "metadata": {
      "needs_background": "light"
     },
     "output_type": "display_data"
    }
   ],
   "source": [
    "data['education'].value_counts().plot(kind='bar')"
   ]
  },
  {
   "cell_type": "markdown",
   "metadata": {},
   "source": [
    "More number of employees have a Bachelor's degree and very few have Below Secondary type of education"
   ]
  },
  {
   "cell_type": "code",
   "execution_count": 27,
   "metadata": {},
   "outputs": [
    {
     "data": {
      "text/plain": [
       "Bachelor's          39078\n",
       "Master's & above    14925\n",
       "Below Secondary       805\n",
       "Name: education, dtype: int64"
      ]
     },
     "execution_count": 27,
     "metadata": {},
     "output_type": "execute_result"
    }
   ],
   "source": [
    "data['education'].value_counts()"
   ]
  },
  {
   "cell_type": "code",
   "execution_count": 28,
   "metadata": {},
   "outputs": [
    {
     "data": {
      "text/plain": [
       "Text(0.5, 1.0, 'Count of number of employees present in various departments')"
      ]
     },
     "execution_count": 28,
     "metadata": {},
     "output_type": "execute_result"
    },
    {
     "data": {
      "image/png": "[encoded data removed]",
      "text/plain": [
       "<Figure size 432x288 with 1 Axes>"
      ]
     },
     "metadata": {
      "needs_background": "light"
     },
     "output_type": "display_data"
    }
   ],
   "source": [
    "data['department'].value_counts().plot(kind='bar')\n",
    "plt.title(\"Count of number of employees present in various departments\")"
   ]
  },
  {
   "cell_type": "markdown",
   "metadata": {},
   "source": [
    "There are more employees in the Sales and Marketing dept and very few in R&D"
   ]
  },
  {
   "cell_type": "code",
   "execution_count": 29,
   "metadata": {},
   "outputs": [
    {
     "data": {
      "text/plain": [
       "Sales & Marketing    16840\n",
       "Operations           11348\n",
       "Technology            7138\n",
       "Procurement           7138\n",
       "Analytics             5352\n",
       "Finance               2536\n",
       "HR                    2418\n",
       "Legal                 1039\n",
       "R&D                    999\n",
       "Name: department, dtype: int64"
      ]
     },
     "execution_count": 29,
     "metadata": {},
     "output_type": "execute_result"
    }
   ],
   "source": [
    "data['department'].value_counts()"
   ]
  },
  {
   "cell_type": "code",
   "execution_count": 30,
   "metadata": {},
   "outputs": [
    {
     "data": {
      "text/plain": [
       "Text(0.5, 1.0, 'Count of number of employees promoted')"
      ]
     },
     "execution_count": 30,
     "metadata": {},
     "output_type": "execute_result"
    },
    {
     "data": {
      "image/png": "[encoded data removed]",
      "text/plain": [
       "<Figure size 432x288 with 1 Axes>"
      ]
     },
     "metadata": {
      "needs_background": "light"
     },
     "output_type": "display_data"
    }
   ],
   "source": [
    "data['is_promoted'].value_counts().plot(kind='bar')\n",
    "plt.title(\"Count of number of employees promoted\")"
   ]
  },
  {
   "cell_type": "code",
   "execution_count": 31,
   "metadata": {},
   "outputs": [
    {
     "data": {
      "image/png": "[encoded data removed]",
      "text/plain": [
       "<Figure size 432x288 with 1 Axes>"
      ]
     },
     "metadata": {
      "needs_background": "light"
     },
     "output_type": "display_data"
    }
   ],
   "source": [
    "plt.hist(data['age'],bins=list(range(0,110,10)))\n",
    "plt.title(\"Age distribution of employees\")\n",
    "plt.show()\n"
   ]
  },
  {
   "cell_type": "code",
   "execution_count": 32,
   "metadata": {},
   "outputs": [
    {
     "data": {
      "text/plain": [
       "Text(0.5, 1.0, 'Graph showing the trainings undergone by employees of different departments')"
      ]
     },
     "execution_count": 32,
     "metadata": {},
     "output_type": "execute_result"
    },
    {
     "data": {
      "image/png": "[encoded data removed]",
      "text/plain": [
       "<Figure size 432x288 with 1 Axes>"
      ]
     },
     "metadata": {
      "needs_background": "light"
     },
     "output_type": "display_data"
    }
   ],
   "source": [
    "data.groupby('department')['no_of_trainings'].mean().plot(kind='bar')\n",
    "plt.title(\"Graph showing the trainings undergone by employees of different departments\")"
   ]
  },
  {
   "cell_type": "markdown",
   "metadata": {},
   "source": [
    "Employees from R&D department undergo compartively more number of trainings than any other department"
   ]
  },
  {
   "cell_type": "code",
   "execution_count": 33,
   "metadata": {},
   "outputs": [
    {
     "data": {
      "text/plain": [
       "gender\n",
       "f    3.136341\n",
       "m    3.054343\n",
       "Name: previous_year_rating, dtype: float64"
      ]
     },
     "execution_count": 33,
     "metadata": {},
     "output_type": "execute_result"
    }
   ],
   "source": [
    "data.groupby('gender')['previous_year_rating'].mean()"
   ]
  },
  {
   "cell_type": "markdown",
   "metadata": {},
   "source": [
    "There is no significant trend in previous year rating with respect to the gender"
   ]
  },
  {
   "cell_type": "code",
   "execution_count": 34,
   "metadata": {},
   "outputs": [
    {
     "data": {
      "text/plain": [
       "length_of_service\n",
       "1     1578\n",
       "2     2495\n",
       "3     2723\n",
       "4     2660\n",
       "5     2250\n",
       "6     1751\n",
       "7     2019\n",
       "8      892\n",
       "9      783\n",
       "10     642\n",
       "11     279\n",
       "12     204\n",
       "13     171\n",
       "14     149\n",
       "15     137\n",
       "16     129\n",
       "17      85\n",
       "18      90\n",
       "19      90\n",
       "20      42\n",
       "21      17\n",
       "22      19\n",
       "23      17\n",
       "24      11\n",
       "25      13\n",
       "26       9\n",
       "27       9\n",
       "28       9\n",
       "29       4\n",
       "30       2\n",
       "31       3\n",
       "32       3\n",
       "33       4\n",
       "34       2\n",
       "37       0\n",
       "Name: KPIs_met >80%, dtype: int64"
      ]
     },
     "execution_count": 34,
     "metadata": {},
     "output_type": "execute_result"
    }
   ],
   "source": [
    "data.groupby('length_of_service')['KPIs_met >80%'].sum()"
   ]
  },
  {
   "cell_type": "markdown",
   "metadata": {},
   "source": [
    "It can be seen that the the employees whose length of service is 1-10 have a larger probability of KPI's meeting 80%"
   ]
  },
  {
   "cell_type": "code",
   "execution_count": 35,
   "metadata": {},
   "outputs": [],
   "source": [
    "data['length_of_service_group']=np.where(np.logical_and(data['length_of_service']>=1 ,data['length_of_service']<=10),1,\n",
    "                                         np.where(np.logical_and(data['length_of_service']>=11 ,data['length_of_service']<=20),2,\n",
    "                            np.where(np.logical_and(data['length_of_service']>=21 ,data['length_of_service']<=30),3,\n",
    "                             np.where(np.logical_and(data['length_of_service']>=31 ,data['length_of_service']<=40),4,np.nan))))"
   ]
  },
  {
   "cell_type": "code",
   "execution_count": 36,
   "metadata": {},
   "outputs": [
    {
     "data": {
      "text/plain": [
       "length_of_service_group\n",
       "1.0    0.086280\n",
       "2.0    0.078055\n",
       "3.0    0.052743\n",
       "4.0    0.068182\n",
       "Name: is_promoted, dtype: float64"
      ]
     },
     "execution_count": 36,
     "metadata": {},
     "output_type": "execute_result"
    }
   ],
   "source": [
    "data['is_promoted'].groupby(data['length_of_service_group']).mean()"
   ]
  },
  {
   "cell_type": "markdown",
   "metadata": {},
   "source": [
    "There is a very high probability that if the length of service is between 10-20 years the employee will get a promotion"
   ]
  },
  {
   "cell_type": "code",
   "execution_count": 37,
   "metadata": {},
   "outputs": [
    {
     "data": {
      "text/plain": [
       "gender\n",
       "f    63.889897\n",
       "m    63.173550\n",
       "Name: avg_training_score, dtype: float64"
      ]
     },
     "execution_count": 37,
     "metadata": {},
     "output_type": "execute_result"
    }
   ],
   "source": [
    "data.groupby('gender')['avg_training_score'].mean()"
   ]
  },
  {
   "cell_type": "markdown",
   "metadata": {},
   "source": [
    "The average training score for both the genders dont show any significant pattern"
   ]
  },
  {
   "cell_type": "code",
   "execution_count": 38,
   "metadata": {},
   "outputs": [
    {
     "data": {
      "text/plain": [
       "gender  department       \n",
       "f       Operations            4677\n",
       "        Procurement           3287\n",
       "        Sales & Marketing     3154\n",
       "        Technology            2788\n",
       "        HR                    1006\n",
       "        Finance                681\n",
       "        Analytics              513\n",
       "        Legal                  149\n",
       "        R&D                     57\n",
       "m       Sales & Marketing    13686\n",
       "        Operations            6671\n",
       "        Analytics             4839\n",
       "        Technology            4350\n",
       "        Procurement           3851\n",
       "        Finance               1855\n",
       "        HR                    1412\n",
       "        R&D                    942\n",
       "        Legal                  890\n",
       "Name: department, dtype: int64"
      ]
     },
     "execution_count": 38,
     "metadata": {},
     "output_type": "execute_result"
    }
   ],
   "source": [
    "data.groupby('gender')['department'].value_counts()"
   ]
  },
  {
   "cell_type": "markdown",
   "metadata": {},
   "source": [
    "There are more male employees in Sales & Marketing dept and more females in Operations department"
   ]
  },
  {
   "cell_type": "code",
   "execution_count": 39,
   "metadata": {},
   "outputs": [
    {
     "data": {
      "text/html": [
       "<div>\n",
       "<style scoped>\n",
       "    .dataframe tbody tr th:only-of-type {\n",
       "        vertical-align: middle;\n",
       "    }\n",
       "\n",
       "    .dataframe tbody tr th {\n",
       "        vertical-align: top;\n",
       "    }\n",
       "\n",
       "    .dataframe thead th {\n",
       "        text-align: right;\n",
       "    }\n",
       "</style>\n",
       "<table border=\"1\" class=\"dataframe\">\n",
       "  <thead>\n",
       "    <tr style=\"text-align: right;\">\n",
       "      <th></th>\n",
       "      <th>no_of_trainings</th>\n",
       "      <th>age</th>\n",
       "      <th>length_of_service</th>\n",
       "      <th>avg_training_score</th>\n",
       "    </tr>\n",
       "  </thead>\n",
       "  <tbody>\n",
       "    <tr>\n",
       "      <th>count</th>\n",
       "      <td>54808.000000</td>\n",
       "      <td>54808.000000</td>\n",
       "      <td>54808.000000</td>\n",
       "      <td>54808.000000</td>\n",
       "    </tr>\n",
       "    <tr>\n",
       "      <th>mean</th>\n",
       "      <td>1.253011</td>\n",
       "      <td>34.803915</td>\n",
       "      <td>5.865512</td>\n",
       "      <td>63.386750</td>\n",
       "    </tr>\n",
       "    <tr>\n",
       "      <th>std</th>\n",
       "      <td>0.609264</td>\n",
       "      <td>7.660169</td>\n",
       "      <td>4.265094</td>\n",
       "      <td>13.371559</td>\n",
       "    </tr>\n",
       "    <tr>\n",
       "      <th>min</th>\n",
       "      <td>1.000000</td>\n",
       "      <td>20.000000</td>\n",
       "      <td>1.000000</td>\n",
       "      <td>39.000000</td>\n",
       "    </tr>\n",
       "    <tr>\n",
       "      <th>25%</th>\n",
       "      <td>1.000000</td>\n",
       "      <td>29.000000</td>\n",
       "      <td>3.000000</td>\n",
       "      <td>51.000000</td>\n",
       "    </tr>\n",
       "    <tr>\n",
       "      <th>50%</th>\n",
       "      <td>1.000000</td>\n",
       "      <td>33.000000</td>\n",
       "      <td>5.000000</td>\n",
       "      <td>60.000000</td>\n",
       "    </tr>\n",
       "    <tr>\n",
       "      <th>75%</th>\n",
       "      <td>1.000000</td>\n",
       "      <td>39.000000</td>\n",
       "      <td>7.000000</td>\n",
       "      <td>76.000000</td>\n",
       "    </tr>\n",
       "    <tr>\n",
       "      <th>max</th>\n",
       "      <td>10.000000</td>\n",
       "      <td>60.000000</td>\n",
       "      <td>37.000000</td>\n",
       "      <td>99.000000</td>\n",
       "    </tr>\n",
       "  </tbody>\n",
       "</table>\n",
       "</div>"
      ],
      "text/plain": [
       "       no_of_trainings           age  length_of_service  avg_training_score\n",
       "count     54808.000000  54808.000000       54808.000000        54808.000000\n",
       "mean          1.253011     34.803915           5.865512           63.386750\n",
       "std           0.609264      7.660169           4.265094           13.371559\n",
       "min           1.000000     20.000000           1.000000           39.000000\n",
       "25%           1.000000     29.000000           3.000000           51.000000\n",
       "50%           1.000000     33.000000           5.000000           60.000000\n",
       "75%           1.000000     39.000000           7.000000           76.000000\n",
       "max          10.000000     60.000000          37.000000           99.000000"
      ]
     },
     "execution_count": 39,
     "metadata": {},
     "output_type": "execute_result"
    }
   ],
   "source": [
    "data[['no_of_trainings','age','length_of_service','avg_training_score']].describe()"
   ]
  },
  {
   "cell_type": "markdown",
   "metadata": {},
   "source": [
    "The average age of employees is 34\n",
    "\n",
    "average length of service is 5 years whereas there is an employee who has worked for 37 years\n",
    "\n",
    "the average training score of an employee is 63 with minimum being 39"
   ]
  },
  {
   "cell_type": "code",
   "execution_count": 40,
   "metadata": {},
   "outputs": [
    {
     "data": {
      "text/plain": [
       "recruitment_channel  department       \n",
       "other                Sales & Marketing    9290\n",
       "                     Operations           6279\n",
       "                     Procurement          4002\n",
       "                     Technology           3914\n",
       "                     Analytics            2973\n",
       "                     Finance              1463\n",
       "                     HR                   1380\n",
       "                     Legal                 590\n",
       "                     R&D                   555\n",
       "referred             Technology            342\n",
       "                     Sales & Marketing     259\n",
       "                     Operations            238\n",
       "                     HR                    103\n",
       "                     Analytics              83\n",
       "                     Procurement            79\n",
       "                     R&D                    19\n",
       "                     Legal                  14\n",
       "                     Finance                 5\n",
       "sourcing             Sales & Marketing    7291\n",
       "                     Operations           4831\n",
       "                     Procurement          3057\n",
       "                     Technology           2882\n",
       "                     Analytics            2296\n",
       "                     Finance              1068\n",
       "                     HR                    935\n",
       "                     Legal                 435\n",
       "                     R&D                   425\n",
       "Name: department, dtype: int64"
      ]
     },
     "execution_count": 40,
     "metadata": {},
     "output_type": "execute_result"
    }
   ],
   "source": [
    "data['department'].groupby(data['recruitment_channel']).value_counts()"
   ]
  },
  {
   "cell_type": "code",
   "execution_count": 41,
   "metadata": {},
   "outputs": [
    {
     "data": {
      "text/plain": [
       "<matplotlib.axes._subplots.AxesSubplot at 0x25fba752648>"
      ]
     },
     "execution_count": 41,
     "metadata": {},
     "output_type": "execute_result"
    },
    {
     "data": {
      "image/png": "[encoded data removed]",
      "text/plain": [
       "<Figure size 432x288 with 1 Axes>"
      ]
     },
     "metadata": {
      "needs_background": "light"
     },
     "output_type": "display_data"
    }
   ],
   "source": [
    "data['awards_won?'].groupby(data['gender']).mean().plot(kind='bar')"
   ]
  },
  {
   "cell_type": "markdown",
   "metadata": {},
   "source": [
    "The probability of males winning an award is slightly higher"
   ]
  },
  {
   "cell_type": "code",
   "execution_count": 42,
   "metadata": {},
   "outputs": [
    {
     "data": {
      "text/plain": [
       "<matplotlib.axes._subplots.AxesSubplot at 0x25faddd8048>"
      ]
     },
     "execution_count": 42,
     "metadata": {},
     "output_type": "execute_result"
    },
    {
     "data": {
      "image/png": "[encoded data removed]",
      "text/plain": [
       "<Figure size 432x288 with 1 Axes>"
      ]
     },
     "metadata": {
      "needs_background": "light"
     },
     "output_type": "display_data"
    }
   ],
   "source": [
    "data['KPIs_met >80%'].groupby(data['gender']).mean().plot(kind='bar')"
   ]
  },
  {
   "cell_type": "markdown",
   "metadata": {},
   "source": [
    "Probability of KPI meeting 80% is slightly higher for females"
   ]
  },
  {
   "cell_type": "code",
   "execution_count": 43,
   "metadata": {},
   "outputs": [
    {
     "data": {
      "text/plain": [
       "<matplotlib.axes._subplots.AxesSubplot at 0x25fb1658508>"
      ]
     },
     "execution_count": 43,
     "metadata": {},
     "output_type": "execute_result"
    },
    {
     "data": {
      "image/png": "[encoded data removed]",
      "text/plain": [
       "<Figure size 432x288 with 1 Axes>"
      ]
     },
     "metadata": {
      "needs_background": "light"
     },
     "output_type": "display_data"
    }
   ],
   "source": [
    "data['length_of_service'].groupby(data['gender']).mean().plot(kind='bar')"
   ]
  },
  {
   "cell_type": "markdown",
   "metadata": {},
   "source": [
    "No significant trend in the length of service i.e males and females work for equal span of years"
   ]
  },
  {
   "cell_type": "code",
   "execution_count": 44,
   "metadata": {},
   "outputs": [
    {
     "data": {
      "text/plain": [
       "<matplotlib.axes._subplots.AxesSubplot at 0x25faddc16c8>"
      ]
     },
     "execution_count": 44,
     "metadata": {},
     "output_type": "execute_result"
    },
    {
     "data": {
      "image/png": "[encoded data removed]",
      "text/plain": [
       "<Figure size 432x288 with 1 Axes>"
      ]
     },
     "metadata": {
      "needs_background": "light"
     },
     "output_type": "display_data"
    }
   ],
   "source": [
    "data['no_of_trainings'].groupby(data['gender']).mean().plot(kind='bar')"
   ]
  },
  {
   "cell_type": "markdown",
   "metadata": {},
   "source": [
    "Males do compartively more number of trainings than females"
   ]
  },
  {
   "cell_type": "code",
   "execution_count": 45,
   "metadata": {},
   "outputs": [
    {
     "data": {
      "text/plain": [
       "<matplotlib.axes._subplots.AxesSubplot at 0x25fae611308>"
      ]
     },
     "execution_count": 45,
     "metadata": {},
     "output_type": "execute_result"
    },
    {
     "data": {
      "image/png": "[encoded data removed]",
      "text/plain": [
       "<Figure size 432x288 with 1 Axes>"
      ]
     },
     "metadata": {
      "needs_background": "light"
     },
     "output_type": "display_data"
    }
   ],
   "source": [
    "data['no_of_trainings'].groupby(data['age_group']).mean().plot(kind='bar')"
   ]
  },
  {
   "cell_type": "markdown",
   "metadata": {},
   "source": [
    "People of age group 1 i.e of age (20-30) years undergo more number of trainings"
   ]
  },
  {
   "cell_type": "code",
   "execution_count": 46,
   "metadata": {},
   "outputs": [
    {
     "data": {
      "text/plain": [
       "<matplotlib.axes._subplots.AxesSubplot at 0x25fae848948>"
      ]
     },
     "execution_count": 46,
     "metadata": {},
     "output_type": "execute_result"
    },
    {
     "data": {
      "image/png": "[encoded data removed]",
      "text/plain": [
       "<Figure size 432x288 with 1 Axes>"
      ]
     },
     "metadata": {
      "needs_background": "light"
     },
     "output_type": "display_data"
    }
   ],
   "source": [
    "data['no_of_trainings'].groupby(data['department']).mean().plot(kind='bar')"
   ]
  },
  {
   "cell_type": "markdown",
   "metadata": {},
   "source": [
    "Employees of the R&D department undergo more number of trainings"
   ]
  },
  {
   "cell_type": "code",
   "execution_count": 47,
   "metadata": {},
   "outputs": [
    {
     "data": {
      "text/plain": [
       "<matplotlib.axes._subplots.AxesSubplot at 0x25faebb5cc8>"
      ]
     },
     "execution_count": 47,
     "metadata": {},
     "output_type": "execute_result"
    },
    {
     "data": {
      "image/png": "[encoded data removed]",
      "text/plain": [
       "<Figure size 432x288 with 1 Axes>"
      ]
     },
     "metadata": {
      "needs_background": "light"
     },
     "output_type": "display_data"
    }
   ],
   "source": [
    "data['avg_training_score'].groupby(data['previous_year_rating']).mean().plot(kind='bar')"
   ]
  },
  {
   "cell_type": "markdown",
   "metadata": {},
   "source": [
    "Traning score is not significantly dependent on previous year ratings"
   ]
  },
  {
   "cell_type": "code",
   "execution_count": 48,
   "metadata": {},
   "outputs": [
    {
     "data": {
      "text/plain": [
       "<matplotlib.axes._subplots.AxesSubplot at 0x25faedfd1c8>"
      ]
     },
     "execution_count": 48,
     "metadata": {},
     "output_type": "execute_result"
    },
    {
     "data": {
      "image/png": "[encoded data removed]",
      "text/plain": [
       "<Figure size 432x288 with 1 Axes>"
      ]
     },
     "metadata": {
      "needs_background": "light"
     },
     "output_type": "display_data"
    }
   ],
   "source": [
    "data['avg_training_score'].groupby(data['is_promoted']).mean().plot(kind='bar')"
   ]
  },
  {
   "cell_type": "markdown",
   "metadata": {},
   "source": [
    "Training score is somewhat dependent on whether the employee will be promoted of not.. Employees with a comparively higher average training score are promoted"
   ]
  },
  {
   "cell_type": "code",
   "execution_count": 49,
   "metadata": {},
   "outputs": [
    {
     "data": {
      "text/plain": [
       "<matplotlib.axes._subplots.AxesSubplot at 0x25fba3a0388>"
      ]
     },
     "execution_count": 49,
     "metadata": {},
     "output_type": "execute_result"
    },
    {
     "data": {
      "image/png": "[encoded data removed]",
      "text/plain": [
       "<Figure size 432x288 with 1 Axes>"
      ]
     },
     "metadata": {
      "needs_background": "light"
     },
     "output_type": "display_data"
    }
   ],
   "source": [
    "data['previous_year_rating'].groupby(data['recruitment_channel']).mean().plot(kind='bar')"
   ]
  },
  {
   "cell_type": "markdown",
   "metadata": {},
   "source": [
    "The mean previous year rating is higher if the recruitment channel is referred"
   ]
  },
  {
   "cell_type": "code",
   "execution_count": 50,
   "metadata": {},
   "outputs": [
    {
     "data": {
      "text/plain": [
       "other       30446\n",
       "sourcing    23220\n",
       "referred     1142\n",
       "Name: recruitment_channel, dtype: int64"
      ]
     },
     "execution_count": 50,
     "metadata": {},
     "output_type": "execute_result"
    }
   ],
   "source": [
    "data['recruitment_channel'].value_counts()"
   ]
  },
  {
   "cell_type": "markdown",
   "metadata": {},
   "source": [
    "whereas the count of referred type is the least i.e it is a rare label"
   ]
  },
  {
   "cell_type": "code",
   "execution_count": 51,
   "metadata": {},
   "outputs": [
    {
     "data": {
      "text/plain": [
       "<matplotlib.axes._subplots.AxesSubplot at 0x25faedeb148>"
      ]
     },
     "execution_count": 51,
     "metadata": {},
     "output_type": "execute_result"
    },
    {
     "data": {
      "image/png": "[encoded data removed]",
      "text/plain": [
       "<Figure size 432x288 with 1 Axes>"
      ]
     },
     "metadata": {
      "needs_background": "light"
     },
     "output_type": "display_data"
    }
   ],
   "source": [
    "data['previous_year_rating'].groupby(data['education']).mean().plot(kind='bar')"
   ]
  },
  {
   "cell_type": "markdown",
   "metadata": {},
   "source": [
    "The average ratings of Education type Master's and above is higher than the avg ratings of Bachelor's or Below Secondary type"
   ]
  },
  {
   "cell_type": "code",
   "execution_count": 52,
   "metadata": {},
   "outputs": [
    {
     "data": {
      "text/plain": [
       "Index(['employee_id', 'department', 'region', 'education', 'gender',\n",
       "       'recruitment_channel', 'no_of_trainings', 'age', 'previous_year_rating',\n",
       "       'length_of_service', 'KPIs_met >80%', 'awards_won?',\n",
       "       'avg_training_score', 'is_promoted', 'age_group',\n",
       "       'length_of_service_group'],\n",
       "      dtype='object')"
      ]
     },
     "execution_count": 52,
     "metadata": {},
     "output_type": "execute_result"
    }
   ],
   "source": [
    "data.columns"
   ]
  },
  {
   "cell_type": "code",
   "execution_count": 53,
   "metadata": {},
   "outputs": [
    {
     "data": {
      "text/plain": [
       "<matplotlib.axes._subplots.AxesSubplot at 0x25faf017d48>"
      ]
     },
     "execution_count": 53,
     "metadata": {},
     "output_type": "execute_result"
    },
    {
     "data": {
      "image/png": "[encoded data removed]",
      "text/plain": [
       "<Figure size 432x288 with 1 Axes>"
      ]
     },
     "metadata": {
      "needs_background": "light"
     },
     "output_type": "display_data"
    }
   ],
   "source": [
    "sns.boxplot(x=data['age'])"
   ]
  },
  {
   "cell_type": "markdown",
   "metadata": {},
   "source": [
    "We can see that the age data contains outliers, but in actual they are not outliers because the above plot just shows that the age of certain old employees is far from the median age and since there are less number of old employees it is interpreted as an outliers but in actual it is not"
   ]
  },
  {
   "cell_type": "code",
   "execution_count": 54,
   "metadata": {},
   "outputs": [
    {
     "data": {
      "text/html": [
       "<div>\n",
       "<style scoped>\n",
       "    .dataframe tbody tr th:only-of-type {\n",
       "        vertical-align: middle;\n",
       "    }\n",
       "\n",
       "    .dataframe tbody tr th {\n",
       "        vertical-align: top;\n",
       "    }\n",
       "\n",
       "    .dataframe thead th {\n",
       "        text-align: right;\n",
       "    }\n",
       "</style>\n",
       "<table border=\"1\" class=\"dataframe\">\n",
       "  <thead>\n",
       "    <tr style=\"text-align: right;\">\n",
       "      <th></th>\n",
       "      <th>employee_id</th>\n",
       "      <th>department</th>\n",
       "      <th>region</th>\n",
       "      <th>education</th>\n",
       "      <th>gender</th>\n",
       "      <th>recruitment_channel</th>\n",
       "      <th>no_of_trainings</th>\n",
       "      <th>age</th>\n",
       "      <th>previous_year_rating</th>\n",
       "      <th>length_of_service</th>\n",
       "      <th>KPIs_met &gt;80%</th>\n",
       "      <th>awards_won?</th>\n",
       "      <th>avg_training_score</th>\n",
       "      <th>is_promoted</th>\n",
       "      <th>age_group</th>\n",
       "      <th>length_of_service_group</th>\n",
       "    </tr>\n",
       "  </thead>\n",
       "  <tbody>\n",
       "    <tr>\n",
       "      <th>31071</th>\n",
       "      <td>51576</td>\n",
       "      <td>Sales &amp; Marketing</td>\n",
       "      <td>region_2</td>\n",
       "      <td>Bachelor's</td>\n",
       "      <td>m</td>\n",
       "      <td>sourcing</td>\n",
       "      <td>2</td>\n",
       "      <td>60</td>\n",
       "      <td>5.0</td>\n",
       "      <td>37</td>\n",
       "      <td>0</td>\n",
       "      <td>0</td>\n",
       "      <td>48</td>\n",
       "      <td>0</td>\n",
       "      <td>4.0</td>\n",
       "      <td>4.0</td>\n",
       "    </tr>\n",
       "  </tbody>\n",
       "</table>\n",
       "</div>"
      ],
      "text/plain": [
       "       employee_id         department    region   education gender  \\\n",
       "31071        51576  Sales & Marketing  region_2  Bachelor's      m   \n",
       "\n",
       "      recruitment_channel  no_of_trainings  age  previous_year_rating  \\\n",
       "31071            sourcing                2   60                   5.0   \n",
       "\n",
       "       length_of_service  KPIs_met >80%  awards_won?  avg_training_score  \\\n",
       "31071                 37              0            0                  48   \n",
       "\n",
       "       is_promoted  age_group  length_of_service_group  \n",
       "31071            0        4.0                      4.0  "
      ]
     },
     "execution_count": 54,
     "metadata": {},
     "output_type": "execute_result"
    }
   ],
   "source": [
    "data[data['length_of_service']==37]"
   ]
  },
  {
   "cell_type": "markdown",
   "metadata": {},
   "source": [
    "It can be seen that the employee whose length of service is 37 is of age 60 i.e it is not an outlier."
   ]
  },
  {
   "cell_type": "markdown",
   "metadata": {},
   "source": [
    "# Splitting the dataset into Train and Validation Sets"
   ]
  },
  {
   "cell_type": "code",
   "execution_count": 55,
   "metadata": {},
   "outputs": [
    {
     "data": {
      "text/plain": [
       "((38365, 16), (16443, 16))"
      ]
     },
     "execution_count": 55,
     "metadata": {},
     "output_type": "execute_result"
    }
   ],
   "source": [
    "from sklearn.model_selection import train_test_split\n",
    "\n",
    "X_train,X_validation=train_test_split(data,random_state=1,test_size=0.3)\n",
    "\n",
    "X_train.shape, X_validation.shape"
   ]
  },
  {
   "cell_type": "markdown",
   "metadata": {},
   "source": [
    "# Feature Engineering "
   ]
  },
  {
   "cell_type": "code",
   "execution_count": 56,
   "metadata": {},
   "outputs": [
    {
     "data": {
      "text/plain": [
       "employee_id                  int64\n",
       "department                  object\n",
       "region                      object\n",
       "education                   object\n",
       "gender                      object\n",
       "recruitment_channel         object\n",
       "no_of_trainings              int64\n",
       "age                          int64\n",
       "previous_year_rating       float64\n",
       "length_of_service            int64\n",
       "KPIs_met >80%                int64\n",
       "awards_won?                  int64\n",
       "avg_training_score           int64\n",
       "is_promoted                  int64\n",
       "age_group                  float64\n",
       "length_of_service_group    float64\n",
       "dtype: object"
      ]
     },
     "execution_count": 56,
     "metadata": {},
     "output_type": "execute_result"
    }
   ],
   "source": [
    "X_train.dtypes"
   ]
  },
  {
   "cell_type": "markdown",
   "metadata": {},
   "source": [
    "We can use a mapping function to map the gender in the following way so as to change the datatype to integer type"
   ]
  },
  {
   "cell_type": "code",
   "execution_count": 57,
   "metadata": {},
   "outputs": [],
   "source": [
    "X_train['gender_map'] = X_train.gender.map({'f':0, 'm':1})\n",
    "X_validation['gender_map'] = X_validation.gender.map({'f':0, 'm':1})"
   ]
  },
  {
   "cell_type": "code",
   "execution_count": 58,
   "metadata": {},
   "outputs": [
    {
     "data": {
      "text/plain": [
       "array([\"Bachelor's\", \"Master's & above\", 'Below Secondary'], dtype=object)"
      ]
     },
     "execution_count": 58,
     "metadata": {},
     "output_type": "execute_result"
    }
   ],
   "source": [
    "X_train['education'].unique()"
   ]
  },
  {
   "cell_type": "markdown",
   "metadata": {},
   "source": [
    "Now since in our education column there are only 3 unique columns and these 3 values have an ordinal relationship between them so i label encoded the values in these columns"
   ]
  },
  {
   "cell_type": "code",
   "execution_count": 59,
   "metadata": {},
   "outputs": [],
   "source": [
    "X_train['education_map']=X_train.education.map({'Below Secondary':1,\"Bachelor's\":2,\"Master's & above\":3})\n",
    "X_validation['education_map']=X_validation.education.map({'Below Secondary':1,\"Bachelor's\":2,\"Master's & above\":3})"
   ]
  },
  {
   "cell_type": "markdown",
   "metadata": {},
   "source": [
    "Taking the mean of whether the employee is promoted or not by grouping on the region column so that we can replace this in the original dataset using a map function.\n",
    "\n",
    "Also known as Mean Target Encoding"
   ]
  },
  {
   "cell_type": "code",
   "execution_count": 60,
   "metadata": {},
   "outputs": [
    {
     "data": {
      "text/plain": [
       "array(['region_7', 'region_2', 'region_32', 'region_18', 'region_22',\n",
       "       'region_30', 'region_11', 'region_15', 'region_16', 'region_13',\n",
       "       'region_17', 'region_14', 'region_8', 'region_24', 'region_12',\n",
       "       'region_1', 'region_28', 'region_25', 'region_23', 'region_3',\n",
       "       'region_26', 'region_31', 'region_29', 'region_4', 'region_34',\n",
       "       'region_9', 'region_21', 'region_6', 'region_19', 'region_10',\n",
       "       'region_20', 'region_27', 'region_5', 'region_33'], dtype=object)"
      ]
     },
     "execution_count": 60,
     "metadata": {},
     "output_type": "execute_result"
    }
   ],
   "source": [
    "X_train['region'].unique()"
   ]
  },
  {
   "cell_type": "code",
   "execution_count": 61,
   "metadata": {},
   "outputs": [
    {
     "data": {
      "text/plain": [
       "array([ 7, 22, 19, 23, 26,  2, 20, 34,  1,  4, 29, 31, 15, 14, 11,  5, 28,\n",
       "       17, 13, 16, 25, 10, 27, 30, 12, 21,  8, 32,  6, 33, 24,  3,  9, 18])"
      ]
     },
     "execution_count": 61,
     "metadata": {},
     "output_type": "execute_result"
    }
   ],
   "source": [
    "region_numerical=data.region.apply(lambda x:x[7:])\n",
    "region_numerical=region_numerical.astype(int)\n",
    "region_numerical.unique()"
   ]
  },
  {
   "cell_type": "markdown",
   "metadata": {},
   "source": [
    "Why Slicing the column is not the right process ?\n",
    "\n",
    "slicing the region column will create values such as 2,17,30 etc\n",
    "\n",
    "When we will train our model, it will get biased towards the larger values like 30\n",
    "\n",
    "where as it is possible that people of region_2 are more subjected to promotion\n",
    "\n",
    "So we cannot use this method for encoding the region column\n",
    "\n",
    "Hence Mean target encoding this column as well"
   ]
  },
  {
   "cell_type": "code",
   "execution_count": 62,
   "metadata": {},
   "outputs": [
    {
     "data": {
      "text/plain": [
       "region\n",
       "region_1     0.087886\n",
       "region_10    0.083700\n",
       "region_11    0.059146\n",
       "region_12    0.076705\n",
       "region_13    0.091599\n",
       "region_14    0.076014\n",
       "region_15    0.078657\n",
       "region_16    0.069498\n",
       "region_17    0.139265\n",
       "region_18    0.000000\n",
       "region_19    0.059968\n",
       "region_2     0.081370\n",
       "region_20    0.064356\n",
       "region_21    0.037931\n",
       "region_22    0.111581\n",
       "region_23    0.117717\n",
       "region_24    0.032698\n",
       "region_25    0.122807\n",
       "region_26    0.062056\n",
       "region_27    0.078925\n",
       "region_28    0.117521\n",
       "region_29    0.043415\n",
       "region_3     0.088608\n",
       "region_30    0.101322\n",
       "region_31    0.049131\n",
       "region_32    0.047840\n",
       "region_33    0.047368\n",
       "region_34    0.035176\n",
       "region_4     0.154742\n",
       "region_5     0.041591\n",
       "region_6     0.040254\n",
       "region_7     0.106182\n",
       "region_8     0.077778\n",
       "region_9     0.023810\n",
       "Name: is_promoted, dtype: float64"
      ]
     },
     "execution_count": 62,
     "metadata": {},
     "output_type": "execute_result"
    }
   ],
   "source": [
    "region_encoding=X_train.groupby('region')['is_promoted'].mean()\n",
    "region_encoding"
   ]
  },
  {
   "cell_type": "markdown",
   "metadata": {},
   "source": [
    "Using these values to map to the train data set\n",
    "\n",
    "These values which are calculated using data from only the train data set are mapped to the validation set\n",
    "\n",
    "Because validation set should be unseen data thus while finding the mean encodings only the train part was used."
   ]
  },
  {
   "cell_type": "code",
   "execution_count": 63,
   "metadata": {},
   "outputs": [],
   "source": [
    "X_train['region_encoding']=X_train['region'].map(region_encoding)\n",
    "X_validation['region_encoding']=X_validation['region'].map(region_encoding)"
   ]
  },
  {
   "cell_type": "markdown",
   "metadata": {},
   "source": [
    "Using region numerical column for encoding will result in biasing of the model. This wont happen if we take the mean of the is_promoted column grouped on region (MEAN TAREGT ENCODING)"
   ]
  },
  {
   "cell_type": "markdown",
   "metadata": {},
   "source": [
    "Similarly using only the train data set to find the mean target encoding of department column"
   ]
  },
  {
   "cell_type": "code",
   "execution_count": 64,
   "metadata": {},
   "outputs": [
    {
     "data": {
      "text/plain": [
       "department\n",
       "Analytics            0.093216\n",
       "Finance              0.084515\n",
       "HR                   0.058551\n",
       "Legal                0.045643\n",
       "Operations           0.088025\n",
       "Procurement          0.100712\n",
       "R&D                  0.067251\n",
       "Sales & Marketing    0.072439\n",
       "Technology           0.109720\n",
       "Name: is_promoted, dtype: float64"
      ]
     },
     "execution_count": 64,
     "metadata": {},
     "output_type": "execute_result"
    }
   ],
   "source": [
    "department_encoding=X_train.groupby('department')['is_promoted'].mean()\n",
    "department_encoding"
   ]
  },
  {
   "cell_type": "markdown",
   "metadata": {},
   "source": [
    "And then mapping these values to train as well as the validation set"
   ]
  },
  {
   "cell_type": "code",
   "execution_count": 65,
   "metadata": {},
   "outputs": [],
   "source": [
    "X_train['department_enocding']=X_train['department'].map(department_encoding)\n",
    "X_validation['department_enocding']=X_validation['department'].map(department_encoding)"
   ]
  },
  {
   "cell_type": "code",
   "execution_count": 66,
   "metadata": {},
   "outputs": [
    {
     "data": {
      "text/plain": [
       "((38365, 20), (16443, 20))"
      ]
     },
     "execution_count": 66,
     "metadata": {},
     "output_type": "execute_result"
    }
   ],
   "source": [
    "X_train.shape,X_validation.shape"
   ]
  },
  {
   "cell_type": "markdown",
   "metadata": {},
   "source": [
    "Creating Some new features :"
   ]
  },
  {
   "cell_type": "markdown",
   "metadata": {},
   "source": [
    "awards won and KPI's met have only true/false values i.e 0,1 and previous year ratings have values from 0-5\n",
    "\n",
    "So if we add these columns together and then check the dependancy of this column with the target it can be seen as in the graph shown below."
   ]
  },
  {
   "cell_type": "code",
   "execution_count": 67,
   "metadata": {},
   "outputs": [],
   "source": [
    "X_train['performance_sum']=X_train['awards_won?']+X_train['KPIs_met >80%']+X_train['previous_year_rating']\n",
    "X_validation['performance_sum']=X_validation['awards_won?']+X_validation['KPIs_met >80%']+X_validation['previous_year_rating']\n",
    "\n",
    "#these 3 columns can be summed up to create a single column and \n",
    "#then we can observe the promotion dependent on this column"
   ]
  },
  {
   "cell_type": "code",
   "execution_count": 68,
   "metadata": {},
   "outputs": [
    {
     "data": {
      "text/plain": [
       "<matplotlib.axes._subplots.AxesSubplot at 0x25fb3f87308>"
      ]
     },
     "execution_count": 68,
     "metadata": {},
     "output_type": "execute_result"
    },
    {
     "data": {
      "image/png": "[encoded data removed]",
      "text/plain": [
       "<Figure size 432x288 with 1 Axes>"
      ]
     },
     "metadata": {
      "needs_background": "light"
     },
     "output_type": "display_data"
    }
   ],
   "source": [
    "X_train['is_promoted'].groupby(X_train['performance_sum']).mean().plot(kind='bar')"
   ]
  },
  {
   "cell_type": "markdown",
   "metadata": {},
   "source": [
    "As it can be seen that as the performance sum increases i.e after 4.0, the promotions go on increasing\n",
    "\n",
    "So this column might be an important feature\n",
    "\n",
    "Inference: Employees with high performace sum have a very high probability of getting promoted\n",
    "    "
   ]
  },
  {
   "cell_type": "code",
   "execution_count": 69,
   "metadata": {},
   "outputs": [
    {
     "data": {
      "text/plain": [
       "<matplotlib.axes._subplots.AxesSubplot at 0x25faf402c48>"
      ]
     },
     "execution_count": 69,
     "metadata": {},
     "output_type": "execute_result"
    },
    {
     "data": {
      "image/png": "[encoded data removed]",
      "text/plain": [
       "<Figure size 432x288 with 1 Axes>"
      ]
     },
     "metadata": {
      "needs_background": "light"
     },
     "output_type": "display_data"
    }
   ],
   "source": [
    "X_train['is_promoted'].groupby(X_train['no_of_trainings']).mean().plot(kind='bar')"
   ]
  },
  {
   "cell_type": "markdown",
   "metadata": {},
   "source": [
    "It can be seen that employees who have done (1-4) number of trainings are more likely to get promoted\n",
    "\n",
    "Inference: Employees who have done more than 6 number of trainings wont get promotion\n",
    "    "
   ]
  },
  {
   "cell_type": "markdown",
   "metadata": {},
   "source": [
    "We have 2 columns avg_training_score and no_of_trainings\n",
    "\n",
    "If we multiply these columns then we can obtain the total_training points(not exact but almost) scored by an employee"
   ]
  },
  {
   "cell_type": "code",
   "execution_count": 70,
   "metadata": {},
   "outputs": [],
   "source": [
    "X_train['total_training_points']=X_train['avg_training_score']*X_train['no_of_trainings']\n",
    "X_validation['total_training_points']=X_validation['avg_training_score']*X_validation['no_of_trainings']\n",
    "\n",
    "#we can calculate the total training points by multiplying the above 2 columns\n",
    "#hence instead of using 2 columns, we can use only one"
   ]
  },
  {
   "cell_type": "code",
   "execution_count": 71,
   "metadata": {},
   "outputs": [
    {
     "data": {
      "text/plain": [
       "count    38365.000000\n",
       "mean        79.667197\n",
       "std         43.742745\n",
       "min         39.000000\n",
       "25%         53.000000\n",
       "50%         64.000000\n",
       "75%         84.000000\n",
       "max        710.000000\n",
       "Name: total_training_points, dtype: float64"
      ]
     },
     "execution_count": 71,
     "metadata": {},
     "output_type": "execute_result"
    }
   ],
   "source": [
    "X_train['total_training_points'].describe()"
   ]
  },
  {
   "cell_type": "markdown",
   "metadata": {},
   "source": [
    "So the average training points were 79, minimum is 39 and maximum is 84\n",
    "\n",
    "Now lets see the dependancy of a high training point with the output label "
   ]
  },
  {
   "cell_type": "code",
   "execution_count": 72,
   "metadata": {},
   "outputs": [
    {
     "data": {
      "text/html": [
       "<div>\n",
       "<style scoped>\n",
       "    .dataframe tbody tr th:only-of-type {\n",
       "        vertical-align: middle;\n",
       "    }\n",
       "\n",
       "    .dataframe tbody tr th {\n",
       "        vertical-align: top;\n",
       "    }\n",
       "\n",
       "    .dataframe thead th {\n",
       "        text-align: right;\n",
       "    }\n",
       "</style>\n",
       "<table border=\"1\" class=\"dataframe\">\n",
       "  <thead>\n",
       "    <tr style=\"text-align: right;\">\n",
       "      <th></th>\n",
       "      <th>no_of_trainings</th>\n",
       "      <th>avg_training_score</th>\n",
       "      <th>is_promoted</th>\n",
       "    </tr>\n",
       "  </thead>\n",
       "  <tbody>\n",
       "    <tr>\n",
       "      <th>19960</th>\n",
       "      <td>9</td>\n",
       "      <td>68</td>\n",
       "      <td>0</td>\n",
       "    </tr>\n",
       "    <tr>\n",
       "      <th>30936</th>\n",
       "      <td>10</td>\n",
       "      <td>71</td>\n",
       "      <td>0</td>\n",
       "    </tr>\n",
       "    <tr>\n",
       "      <th>548</th>\n",
       "      <td>7</td>\n",
       "      <td>82</td>\n",
       "      <td>0</td>\n",
       "    </tr>\n",
       "    <tr>\n",
       "      <th>9862</th>\n",
       "      <td>8</td>\n",
       "      <td>68</td>\n",
       "      <td>0</td>\n",
       "    </tr>\n",
       "    <tr>\n",
       "      <th>29372</th>\n",
       "      <td>9</td>\n",
       "      <td>71</td>\n",
       "      <td>0</td>\n",
       "    </tr>\n",
       "    <tr>\n",
       "      <th>52765</th>\n",
       "      <td>9</td>\n",
       "      <td>75</td>\n",
       "      <td>0</td>\n",
       "    </tr>\n",
       "    <tr>\n",
       "      <th>20778</th>\n",
       "      <td>8</td>\n",
       "      <td>71</td>\n",
       "      <td>0</td>\n",
       "    </tr>\n",
       "  </tbody>\n",
       "</table>\n",
       "</div>"
      ],
      "text/plain": [
       "       no_of_trainings  avg_training_score  is_promoted\n",
       "19960                9                  68            0\n",
       "30936               10                  71            0\n",
       "548                  7                  82            0\n",
       "9862                 8                  68            0\n",
       "29372                9                  71            0\n",
       "52765                9                  75            0\n",
       "20778                8                  71            0"
      ]
     },
     "execution_count": 72,
     "metadata": {},
     "output_type": "execute_result"
    }
   ],
   "source": [
    "X_train[X_train['total_training_points']>=500][['no_of_trainings','avg_training_score','is_promoted']]"
   ]
  },
  {
   "cell_type": "markdown",
   "metadata": {},
   "source": [
    "Inference: It is not necessary that if the employee has a very high training score then the employee will be promoted for sure\n",
    "    \n",
    "    The promotion depends on lot more criterias "
   ]
  },
  {
   "cell_type": "markdown",
   "metadata": {},
   "source": [
    "Fos instance an employee may get a promotion if his score is around 100"
   ]
  },
  {
   "cell_type": "code",
   "execution_count": 73,
   "metadata": {},
   "outputs": [
    {
     "name": "stdout",
     "output_type": "stream",
     "text": [
      "374\n"
     ]
    },
    {
     "data": {
      "text/plain": [
       "(1520, 22)"
      ]
     },
     "execution_count": 73,
     "metadata": {},
     "output_type": "execute_result"
    }
   ],
   "source": [
    "X_filtered=X_train[X_train['total_training_points']>=90]\n",
    "X_filtered=X_filtered[X_filtered['total_training_points']<=100]\n",
    "X_filtered[['no_of_trainings','avg_training_score','total_training_points','is_promoted']]\n",
    "print(X_filtered['is_promoted'].sum())\n",
    "X_filtered.shape"
   ]
  },
  {
   "cell_type": "markdown",
   "metadata": {},
   "source": [
    "Thus it can be seen that if the total_training_points lies more about the average then the employee has a chance of getting a promotion\n",
    "\n",
    "374 promotions out of 1520\n",
    "\n",
    "almost a 1:5 ratio\n"
   ]
  },
  {
   "cell_type": "markdown",
   "metadata": {},
   "source": [
    "Now since we have 2 columns namely age and length of service\n",
    "\n",
    "In the EDA it was seen that the employees belonging to age group 30-40 recieve compartively more promotions\n",
    "\n",
    "and the employees whose length of service is 10-20 years recieve compartively more promotions\n",
    "\n",
    "If we subtract length of service from age we will get the joining age of the employee\n",
    "\n",
    "Then we can see how this joining age will be dependant on the promotion"
   ]
  },
  {
   "cell_type": "code",
   "execution_count": 74,
   "metadata": {},
   "outputs": [],
   "source": [
    "X_train['joining_age']=X_train['age']-X_train['length_of_service']\n",
    "X_validation['joining_age']=X_validation['age']-X_validation['length_of_service']\n",
    "\n",
    "#Instead of using both the columns\n",
    "#we can use only 1 column i.e joining age"
   ]
  },
  {
   "cell_type": "code",
   "execution_count": 75,
   "metadata": {},
   "outputs": [
    {
     "data": {
      "text/plain": [
       "(18, 58)"
      ]
     },
     "execution_count": 75,
     "metadata": {},
     "output_type": "execute_result"
    }
   ],
   "source": [
    "X_train['joining_age'].min(),X_train['joining_age'].max()"
   ]
  },
  {
   "cell_type": "code",
   "execution_count": 76,
   "metadata": {},
   "outputs": [],
   "source": [
    "X_train['joining_age_bins']=np.where(np.logical_and(X_train['joining_age']>=10 ,X_train['joining_age']<=20),1,\n",
    "                                         np.where(np.logical_and(X_train['joining_age']>=21 ,X_train['joining_age']<=30),2,\n",
    "                            np.where(np.logical_and(X_train['joining_age']>=31 ,X_train['joining_age']<=40),3,\n",
    "                             np.where(np.logical_and(X_train['joining_age']>=41 ,X_train['joining_age']<=50),4,\n",
    "                                     np.where(np.logical_and(X_train['joining_age']>51 ,X_train['joining_age']<=60),5,np.nan)))))"
   ]
  },
  {
   "cell_type": "code",
   "execution_count": 77,
   "metadata": {},
   "outputs": [
    {
     "data": {
      "text/plain": [
       "joining_age_bins\n",
       "1.0    0.059748\n",
       "2.0    0.087185\n",
       "3.0    0.086137\n",
       "4.0    0.064786\n",
       "5.0    0.086294\n",
       "Name: is_promoted, dtype: float64"
      ]
     },
     "execution_count": 77,
     "metadata": {},
     "output_type": "execute_result"
    }
   ],
   "source": [
    "X_train['is_promoted'].groupby(X_train['joining_age_bins']).mean()"
   ]
  },
  {
   "cell_type": "markdown",
   "metadata": {},
   "source": [
    "Thus it can be seen that the employees whose joining age is between 21-40 have a high probability of getting promotion"
   ]
  },
  {
   "cell_type": "code",
   "execution_count": 78,
   "metadata": {},
   "outputs": [
    {
     "data": {
      "text/plain": [
       "education\n",
       "Bachelor's          0.080340\n",
       "Below Secondary     0.084211\n",
       "Master's & above    0.099321\n",
       "Name: is_promoted, dtype: float64"
      ]
     },
     "execution_count": 78,
     "metadata": {},
     "output_type": "execute_result"
    }
   ],
   "source": [
    "X_train['is_promoted'].groupby(X_train['education']).mean()"
   ]
  },
  {
   "cell_type": "markdown",
   "metadata": {},
   "source": [
    "The probability of getting promoted increases as the education level increases.\n",
    "\n",
    "Thus Label Encoding the education column might be helpful during feature selection"
   ]
  },
  {
   "cell_type": "code",
   "execution_count": 79,
   "metadata": {},
   "outputs": [
    {
     "data": {
      "text/plain": [
       "gender\n",
       "f    0.090621\n",
       "m    0.083448\n",
       "Name: is_promoted, dtype: float64"
      ]
     },
     "execution_count": 79,
     "metadata": {},
     "output_type": "execute_result"
    }
   ],
   "source": [
    "X_train['is_promoted'].groupby(X_train['gender']).mean()"
   ]
  },
  {
   "cell_type": "markdown",
   "metadata": {},
   "source": [
    "No significant changes observed i.e the promotion is not biased towards gender, So mapping the gender may not be an important feature"
   ]
  },
  {
   "cell_type": "code",
   "execution_count": 80,
   "metadata": {},
   "outputs": [
    {
     "data": {
      "text/plain": [
       "recruitment_channel\n",
       "other       0.083731\n",
       "referred    0.131086\n",
       "sourcing    0.085755\n",
       "Name: is_promoted, dtype: float64"
      ]
     },
     "execution_count": 80,
     "metadata": {},
     "output_type": "execute_result"
    }
   ],
   "source": [
    "recruitment_channel_encoding=X_train['is_promoted'].groupby(X_train['recruitment_channel']).mean()\n",
    "recruitment_channel_encoding"
   ]
  },
  {
   "cell_type": "code",
   "execution_count": 81,
   "metadata": {},
   "outputs": [
    {
     "data": {
      "text/plain": [
       "other       21390\n",
       "sourcing    16174\n",
       "referred      801\n",
       "Name: recruitment_channel, dtype: int64"
      ]
     },
     "execution_count": 81,
     "metadata": {},
     "output_type": "execute_result"
    }
   ],
   "source": [
    "X_train['recruitment_channel'].value_counts()"
   ]
  },
  {
   "cell_type": "markdown",
   "metadata": {},
   "source": [
    "The count of referred is very low compared to others\n",
    "\n",
    "But the probability of getting promoted of refrred type is the highest\n",
    "\n",
    "\n",
    "Thus using a mean target encoding for this column may be useful"
   ]
  },
  {
   "cell_type": "code",
   "execution_count": 82,
   "metadata": {},
   "outputs": [],
   "source": [
    "X_train['recruitment_channel_encoding']=X_train['recruitment_channel'].map(recruitment_channel_encoding)\n",
    "X_validation['recruitment_channel_encoding']=X_validation['recruitment_channel'].map(recruitment_channel_encoding)"
   ]
  },
  {
   "cell_type": "code",
   "execution_count": 83,
   "metadata": {},
   "outputs": [
    {
     "data": {
      "text/plain": [
       "Index(['employee_id', 'department', 'region', 'education', 'gender',\n",
       "       'recruitment_channel', 'no_of_trainings', 'age', 'previous_year_rating',\n",
       "       'length_of_service', 'KPIs_met >80%', 'awards_won?',\n",
       "       'avg_training_score', 'is_promoted', 'age_group',\n",
       "       'length_of_service_group', 'gender_map', 'education_map',\n",
       "       'region_encoding', 'department_enocding', 'performance_sum',\n",
       "       'total_training_points', 'joining_age', 'joining_age_bins',\n",
       "       'recruitment_channel_encoding'],\n",
       "      dtype='object')"
      ]
     },
     "execution_count": 83,
     "metadata": {},
     "output_type": "execute_result"
    }
   ],
   "source": [
    "X_train.columns"
   ]
  },
  {
   "cell_type": "code",
   "execution_count": 84,
   "metadata": {},
   "outputs": [
    {
     "data": {
      "text/plain": [
       "((38365, 25), (16443, 24))"
      ]
     },
     "execution_count": 84,
     "metadata": {},
     "output_type": "execute_result"
    }
   ],
   "source": [
    "X_train.shape,X_validation.shape"
   ]
  },
  {
   "cell_type": "code",
   "execution_count": 85,
   "metadata": {
    "scrolled": true
   },
   "outputs": [
    {
     "data": {
      "text/html": [
       "<div>\n",
       "<style scoped>\n",
       "    .dataframe tbody tr th:only-of-type {\n",
       "        vertical-align: middle;\n",
       "    }\n",
       "\n",
       "    .dataframe tbody tr th {\n",
       "        vertical-align: top;\n",
       "    }\n",
       "\n",
       "    .dataframe thead th {\n",
       "        text-align: right;\n",
       "    }\n",
       "</style>\n",
       "<table border=\"1\" class=\"dataframe\">\n",
       "  <thead>\n",
       "    <tr style=\"text-align: right;\">\n",
       "      <th></th>\n",
       "      <th>employee_id</th>\n",
       "      <th>department</th>\n",
       "      <th>region</th>\n",
       "      <th>education</th>\n",
       "      <th>gender</th>\n",
       "      <th>recruitment_channel</th>\n",
       "      <th>no_of_trainings</th>\n",
       "      <th>age</th>\n",
       "      <th>previous_year_rating</th>\n",
       "      <th>length_of_service</th>\n",
       "      <th>...</th>\n",
       "      <th>length_of_service_group</th>\n",
       "      <th>gender_map</th>\n",
       "      <th>education_map</th>\n",
       "      <th>region_encoding</th>\n",
       "      <th>department_enocding</th>\n",
       "      <th>performance_sum</th>\n",
       "      <th>total_training_points</th>\n",
       "      <th>joining_age</th>\n",
       "      <th>joining_age_bins</th>\n",
       "      <th>recruitment_channel_encoding</th>\n",
       "    </tr>\n",
       "  </thead>\n",
       "  <tbody>\n",
       "    <tr>\n",
       "      <th>51189</th>\n",
       "      <td>36289</td>\n",
       "      <td>HR</td>\n",
       "      <td>region_7</td>\n",
       "      <td>Bachelor's</td>\n",
       "      <td>f</td>\n",
       "      <td>other</td>\n",
       "      <td>1</td>\n",
       "      <td>29</td>\n",
       "      <td>0.0</td>\n",
       "      <td>1</td>\n",
       "      <td>...</td>\n",
       "      <td>1.0</td>\n",
       "      <td>0</td>\n",
       "      <td>2</td>\n",
       "      <td>0.106182</td>\n",
       "      <td>0.058551</td>\n",
       "      <td>1.0</td>\n",
       "      <td>52</td>\n",
       "      <td>28</td>\n",
       "      <td>2.0</td>\n",
       "      <td>0.083731</td>\n",
       "    </tr>\n",
       "    <tr>\n",
       "      <th>35949</th>\n",
       "      <td>28978</td>\n",
       "      <td>Sales &amp; Marketing</td>\n",
       "      <td>region_2</td>\n",
       "      <td>Master's &amp; above</td>\n",
       "      <td>f</td>\n",
       "      <td>sourcing</td>\n",
       "      <td>1</td>\n",
       "      <td>44</td>\n",
       "      <td>5.0</td>\n",
       "      <td>11</td>\n",
       "      <td>...</td>\n",
       "      <td>2.0</td>\n",
       "      <td>0</td>\n",
       "      <td>3</td>\n",
       "      <td>0.081370</td>\n",
       "      <td>0.072439</td>\n",
       "      <td>6.0</td>\n",
       "      <td>47</td>\n",
       "      <td>33</td>\n",
       "      <td>3.0</td>\n",
       "      <td>0.085755</td>\n",
       "    </tr>\n",
       "    <tr>\n",
       "      <th>36385</th>\n",
       "      <td>38523</td>\n",
       "      <td>Sales &amp; Marketing</td>\n",
       "      <td>region_32</td>\n",
       "      <td>Bachelor's</td>\n",
       "      <td>m</td>\n",
       "      <td>sourcing</td>\n",
       "      <td>1</td>\n",
       "      <td>30</td>\n",
       "      <td>3.0</td>\n",
       "      <td>3</td>\n",
       "      <td>...</td>\n",
       "      <td>1.0</td>\n",
       "      <td>1</td>\n",
       "      <td>2</td>\n",
       "      <td>0.047840</td>\n",
       "      <td>0.072439</td>\n",
       "      <td>3.0</td>\n",
       "      <td>50</td>\n",
       "      <td>27</td>\n",
       "      <td>2.0</td>\n",
       "      <td>0.085755</td>\n",
       "    </tr>\n",
       "    <tr>\n",
       "      <th>43913</th>\n",
       "      <td>39202</td>\n",
       "      <td>Technology</td>\n",
       "      <td>region_2</td>\n",
       "      <td>Master's &amp; above</td>\n",
       "      <td>f</td>\n",
       "      <td>other</td>\n",
       "      <td>1</td>\n",
       "      <td>44</td>\n",
       "      <td>5.0</td>\n",
       "      <td>15</td>\n",
       "      <td>...</td>\n",
       "      <td>2.0</td>\n",
       "      <td>0</td>\n",
       "      <td>3</td>\n",
       "      <td>0.081370</td>\n",
       "      <td>0.109720</td>\n",
       "      <td>6.0</td>\n",
       "      <td>75</td>\n",
       "      <td>29</td>\n",
       "      <td>2.0</td>\n",
       "      <td>0.083731</td>\n",
       "    </tr>\n",
       "    <tr>\n",
       "      <th>9289</th>\n",
       "      <td>17245</td>\n",
       "      <td>Operations</td>\n",
       "      <td>region_7</td>\n",
       "      <td>Bachelor's</td>\n",
       "      <td>m</td>\n",
       "      <td>sourcing</td>\n",
       "      <td>1</td>\n",
       "      <td>34</td>\n",
       "      <td>3.0</td>\n",
       "      <td>7</td>\n",
       "      <td>...</td>\n",
       "      <td>1.0</td>\n",
       "      <td>1</td>\n",
       "      <td>2</td>\n",
       "      <td>0.106182</td>\n",
       "      <td>0.088025</td>\n",
       "      <td>3.0</td>\n",
       "      <td>61</td>\n",
       "      <td>27</td>\n",
       "      <td>2.0</td>\n",
       "      <td>0.085755</td>\n",
       "    </tr>\n",
       "  </tbody>\n",
       "</table>\n",
       "<p>5 rows × 25 columns</p>\n",
       "</div>"
      ],
      "text/plain": [
       "       employee_id         department     region         education gender  \\\n",
       "51189        36289                 HR   region_7        Bachelor's      f   \n",
       "35949        28978  Sales & Marketing   region_2  Master's & above      f   \n",
       "36385        38523  Sales & Marketing  region_32        Bachelor's      m   \n",
       "43913        39202         Technology   region_2  Master's & above      f   \n",
       "9289         17245         Operations   region_7        Bachelor's      m   \n",
       "\n",
       "      recruitment_channel  no_of_trainings  age  previous_year_rating  \\\n",
       "51189               other                1   29                   0.0   \n",
       "35949            sourcing                1   44                   5.0   \n",
       "36385            sourcing                1   30                   3.0   \n",
       "43913               other                1   44                   5.0   \n",
       "9289             sourcing                1   34                   3.0   \n",
       "\n",
       "       length_of_service  ...  length_of_service_group  gender_map  \\\n",
       "51189                  1  ...                      1.0           0   \n",
       "35949                 11  ...                      2.0           0   \n",
       "36385                  3  ...                      1.0           1   \n",
       "43913                 15  ...                      2.0           0   \n",
       "9289                   7  ...                      1.0           1   \n",
       "\n",
       "       education_map  region_encoding  department_enocding  performance_sum  \\\n",
       "51189              2         0.106182             0.058551              1.0   \n",
       "35949              3         0.081370             0.072439              6.0   \n",
       "36385              2         0.047840             0.072439              3.0   \n",
       "43913              3         0.081370             0.109720              6.0   \n",
       "9289               2         0.106182             0.088025              3.0   \n",
       "\n",
       "       total_training_points  joining_age  joining_age_bins  \\\n",
       "51189                     52           28               2.0   \n",
       "35949                     47           33               3.0   \n",
       "36385                     50           27               2.0   \n",
       "43913                     75           29               2.0   \n",
       "9289                      61           27               2.0   \n",
       "\n",
       "       recruitment_channel_encoding  \n",
       "51189                      0.083731  \n",
       "35949                      0.085755  \n",
       "36385                      0.085755  \n",
       "43913                      0.083731  \n",
       "9289                       0.085755  \n",
       "\n",
       "[5 rows x 25 columns]"
      ]
     },
     "execution_count": 85,
     "metadata": {},
     "output_type": "execute_result"
    }
   ],
   "source": [
    "X_train.head()"
   ]
  },
  {
   "cell_type": "code",
   "execution_count": 86,
   "metadata": {},
   "outputs": [
    {
     "data": {
      "text/plain": [
       "(38365, 38365)"
      ]
     },
     "execution_count": 86,
     "metadata": {},
     "output_type": "execute_result"
    }
   ],
   "source": [
    "X_train.shape[0],X_train['employee_id'].nunique()"
   ]
  },
  {
   "cell_type": "markdown",
   "metadata": {},
   "source": [
    "Taking the numerical columns from X_train\n",
    "\n",
    "i.e the new features, the old ones and encoded columns for the categorical variables\n",
    "\n",
    "    Employee id is not used in features list because it is unique for each row i.e it will not give any insight about the dataset\n"
   ]
  },
  {
   "cell_type": "code",
   "execution_count": 87,
   "metadata": {},
   "outputs": [],
   "source": [
    "features=[ 'no_of_trainings', 'age', 'previous_year_rating',\n",
    "       'length_of_service', 'KPIs_met >80%', 'awards_won?',\n",
    "       'avg_training_score', 'age_group',\n",
    "       'length_of_service_group', 'gender_map', 'education_map',\n",
    "       'region_encoding', 'department_enocding', 'performance_sum',\n",
    "       'total_training_points', 'joining_age', 'recruitment_channel_encoding']"
   ]
  },
  {
   "cell_type": "code",
   "execution_count": 88,
   "metadata": {},
   "outputs": [
    {
     "data": {
      "text/html": [
       "<div>\n",
       "<style scoped>\n",
       "    .dataframe tbody tr th:only-of-type {\n",
       "        vertical-align: middle;\n",
       "    }\n",
       "\n",
       "    .dataframe tbody tr th {\n",
       "        vertical-align: top;\n",
       "    }\n",
       "\n",
       "    .dataframe thead th {\n",
       "        text-align: right;\n",
       "    }\n",
       "</style>\n",
       "<table border=\"1\" class=\"dataframe\">\n",
       "  <thead>\n",
       "    <tr style=\"text-align: right;\">\n",
       "      <th></th>\n",
       "      <th>no_of_trainings</th>\n",
       "      <th>age</th>\n",
       "      <th>previous_year_rating</th>\n",
       "      <th>length_of_service</th>\n",
       "      <th>KPIs_met &gt;80%</th>\n",
       "      <th>awards_won?</th>\n",
       "      <th>avg_training_score</th>\n",
       "      <th>age_group</th>\n",
       "      <th>length_of_service_group</th>\n",
       "      <th>gender_map</th>\n",
       "      <th>education_map</th>\n",
       "      <th>region_encoding</th>\n",
       "      <th>department_enocding</th>\n",
       "      <th>performance_sum</th>\n",
       "      <th>total_training_points</th>\n",
       "      <th>joining_age</th>\n",
       "      <th>recruitment_channel_encoding</th>\n",
       "    </tr>\n",
       "  </thead>\n",
       "  <tbody>\n",
       "    <tr>\n",
       "      <th>51189</th>\n",
       "      <td>1</td>\n",
       "      <td>29</td>\n",
       "      <td>0.0</td>\n",
       "      <td>1</td>\n",
       "      <td>1</td>\n",
       "      <td>0</td>\n",
       "      <td>52</td>\n",
       "      <td>1.0</td>\n",
       "      <td>1.0</td>\n",
       "      <td>0</td>\n",
       "      <td>2</td>\n",
       "      <td>0.106182</td>\n",
       "      <td>0.058551</td>\n",
       "      <td>1.0</td>\n",
       "      <td>52</td>\n",
       "      <td>28</td>\n",
       "      <td>0.083731</td>\n",
       "    </tr>\n",
       "    <tr>\n",
       "      <th>35949</th>\n",
       "      <td>1</td>\n",
       "      <td>44</td>\n",
       "      <td>5.0</td>\n",
       "      <td>11</td>\n",
       "      <td>1</td>\n",
       "      <td>0</td>\n",
       "      <td>47</td>\n",
       "      <td>3.0</td>\n",
       "      <td>2.0</td>\n",
       "      <td>0</td>\n",
       "      <td>3</td>\n",
       "      <td>0.081370</td>\n",
       "      <td>0.072439</td>\n",
       "      <td>6.0</td>\n",
       "      <td>47</td>\n",
       "      <td>33</td>\n",
       "      <td>0.085755</td>\n",
       "    </tr>\n",
       "    <tr>\n",
       "      <th>36385</th>\n",
       "      <td>1</td>\n",
       "      <td>30</td>\n",
       "      <td>3.0</td>\n",
       "      <td>3</td>\n",
       "      <td>0</td>\n",
       "      <td>0</td>\n",
       "      <td>50</td>\n",
       "      <td>1.0</td>\n",
       "      <td>1.0</td>\n",
       "      <td>1</td>\n",
       "      <td>2</td>\n",
       "      <td>0.047840</td>\n",
       "      <td>0.072439</td>\n",
       "      <td>3.0</td>\n",
       "      <td>50</td>\n",
       "      <td>27</td>\n",
       "      <td>0.085755</td>\n",
       "    </tr>\n",
       "    <tr>\n",
       "      <th>43913</th>\n",
       "      <td>1</td>\n",
       "      <td>44</td>\n",
       "      <td>5.0</td>\n",
       "      <td>15</td>\n",
       "      <td>1</td>\n",
       "      <td>0</td>\n",
       "      <td>75</td>\n",
       "      <td>3.0</td>\n",
       "      <td>2.0</td>\n",
       "      <td>0</td>\n",
       "      <td>3</td>\n",
       "      <td>0.081370</td>\n",
       "      <td>0.109720</td>\n",
       "      <td>6.0</td>\n",
       "      <td>75</td>\n",
       "      <td>29</td>\n",
       "      <td>0.083731</td>\n",
       "    </tr>\n",
       "    <tr>\n",
       "      <th>9289</th>\n",
       "      <td>1</td>\n",
       "      <td>34</td>\n",
       "      <td>3.0</td>\n",
       "      <td>7</td>\n",
       "      <td>0</td>\n",
       "      <td>0</td>\n",
       "      <td>61</td>\n",
       "      <td>2.0</td>\n",
       "      <td>1.0</td>\n",
       "      <td>1</td>\n",
       "      <td>2</td>\n",
       "      <td>0.106182</td>\n",
       "      <td>0.088025</td>\n",
       "      <td>3.0</td>\n",
       "      <td>61</td>\n",
       "      <td>27</td>\n",
       "      <td>0.085755</td>\n",
       "    </tr>\n",
       "  </tbody>\n",
       "</table>\n",
       "</div>"
      ],
      "text/plain": [
       "       no_of_trainings  age  previous_year_rating  length_of_service  \\\n",
       "51189                1   29                   0.0                  1   \n",
       "35949                1   44                   5.0                 11   \n",
       "36385                1   30                   3.0                  3   \n",
       "43913                1   44                   5.0                 15   \n",
       "9289                 1   34                   3.0                  7   \n",
       "\n",
       "       KPIs_met >80%  awards_won?  avg_training_score  age_group  \\\n",
       "51189              1            0                  52        1.0   \n",
       "35949              1            0                  47        3.0   \n",
       "36385              0            0                  50        1.0   \n",
       "43913              1            0                  75        3.0   \n",
       "9289               0            0                  61        2.0   \n",
       "\n",
       "       length_of_service_group  gender_map  education_map  region_encoding  \\\n",
       "51189                      1.0           0              2         0.106182   \n",
       "35949                      2.0           0              3         0.081370   \n",
       "36385                      1.0           1              2         0.047840   \n",
       "43913                      2.0           0              3         0.081370   \n",
       "9289                       1.0           1              2         0.106182   \n",
       "\n",
       "       department_enocding  performance_sum  total_training_points  \\\n",
       "51189             0.058551              1.0                     52   \n",
       "35949             0.072439              6.0                     47   \n",
       "36385             0.072439              3.0                     50   \n",
       "43913             0.109720              6.0                     75   \n",
       "9289              0.088025              3.0                     61   \n",
       "\n",
       "       joining_age  recruitment_channel_encoding  \n",
       "51189           28                      0.083731  \n",
       "35949           33                      0.085755  \n",
       "36385           27                      0.085755  \n",
       "43913           29                      0.083731  \n",
       "9289            27                      0.085755  "
      ]
     },
     "execution_count": 88,
     "metadata": {},
     "output_type": "execute_result"
    }
   ],
   "source": [
    "X_train[features].head()"
   ]
  },
  {
   "cell_type": "markdown",
   "metadata": {},
   "source": [
    "Checking Variance Threshold to make sure that no quasi constant features were created during feature enigineering"
   ]
  },
  {
   "cell_type": "code",
   "execution_count": 89,
   "metadata": {},
   "outputs": [
    {
     "name": "stdout",
     "output_type": "stream",
     "text": [
      "Non quasi const features =  13\n",
      "Quasi Constant features = 4\n"
     ]
    },
    {
     "data": {
      "text/plain": [
       "['awards_won?',\n",
       " 'region_encoding',\n",
       " 'department_enocding',\n",
       " 'recruitment_channel_encoding']"
      ]
     },
     "execution_count": 89,
     "metadata": {},
     "output_type": "execute_result"
    }
   ],
   "source": [
    "sel = VarianceThreshold(threshold=0.1)  # 0.1 indicates 90% of observations approximately\n",
    "\n",
    "sel.fit(X_train[features])\n",
    "\n",
    "print (\"Non quasi const features = \",sum(sel.get_support()))\n",
    "\n",
    "print(\"Quasi Constant features =\",\n",
    "    len([\n",
    "        x for x in X_train[features].columns\n",
    "        if x not in X_train[features].columns[sel.get_support()]\n",
    "    ]))\n",
    "\n",
    "[x for x in X_train[features].columns if x not in X_train[features].columns[sel.get_support()]]"
   ]
  },
  {
   "cell_type": "markdown",
   "metadata": {},
   "source": [
    "Some inferences about how variance works :"
   ]
  },
  {
   "cell_type": "code",
   "execution_count": 90,
   "metadata": {},
   "outputs": [
    {
     "name": "stdout",
     "output_type": "stream",
     "text": [
      "0.3\n",
      "0.0030000000000000005\n",
      "0.0\n"
     ]
    }
   ],
   "source": [
    "import statistics  \n",
    "lis1=[1,2,1,2,1]\n",
    "lis2=[0.1,0.2,0.1,0.2,0.1]\n",
    "lis3=[0.1,0.1,0.1,0.1,0.1]\n",
    "print(statistics.variance(lis1))\n",
    "print(statistics.variance(lis2))\n",
    "print(statistics.variance(lis3))"
   ]
  },
  {
   "cell_type": "markdown",
   "metadata": {},
   "source": [
    "Thus we can see that if the data is 1,2... the variance is 0.3\n",
    "\n",
    "But if the data changes to 0.1 i.e 10% of the orignal data , then the variance differs by 1/100(because of squared relation in the formula)"
   ]
  },
  {
   "cell_type": "markdown",
   "metadata": {},
   "source": [
    "Now if we closely examine these columns :"
   ]
  },
  {
   "cell_type": "code",
   "execution_count": 91,
   "metadata": {},
   "outputs": [
    {
     "data": {
      "text/html": [
       "<div>\n",
       "<style scoped>\n",
       "    .dataframe tbody tr th:only-of-type {\n",
       "        vertical-align: middle;\n",
       "    }\n",
       "\n",
       "    .dataframe tbody tr th {\n",
       "        vertical-align: top;\n",
       "    }\n",
       "\n",
       "    .dataframe thead th {\n",
       "        text-align: right;\n",
       "    }\n",
       "</style>\n",
       "<table border=\"1\" class=\"dataframe\">\n",
       "  <thead>\n",
       "    <tr style=\"text-align: right;\">\n",
       "      <th></th>\n",
       "      <th>awards_won?</th>\n",
       "      <th>region_encoding</th>\n",
       "      <th>department_enocding</th>\n",
       "      <th>recruitment_channel_encoding</th>\n",
       "    </tr>\n",
       "  </thead>\n",
       "  <tbody>\n",
       "    <tr>\n",
       "      <th>51189</th>\n",
       "      <td>0</td>\n",
       "      <td>0.106182</td>\n",
       "      <td>0.058551</td>\n",
       "      <td>0.083731</td>\n",
       "    </tr>\n",
       "    <tr>\n",
       "      <th>35949</th>\n",
       "      <td>0</td>\n",
       "      <td>0.081370</td>\n",
       "      <td>0.072439</td>\n",
       "      <td>0.085755</td>\n",
       "    </tr>\n",
       "    <tr>\n",
       "      <th>36385</th>\n",
       "      <td>0</td>\n",
       "      <td>0.047840</td>\n",
       "      <td>0.072439</td>\n",
       "      <td>0.085755</td>\n",
       "    </tr>\n",
       "    <tr>\n",
       "      <th>43913</th>\n",
       "      <td>0</td>\n",
       "      <td>0.081370</td>\n",
       "      <td>0.109720</td>\n",
       "      <td>0.083731</td>\n",
       "    </tr>\n",
       "    <tr>\n",
       "      <th>9289</th>\n",
       "      <td>0</td>\n",
       "      <td>0.106182</td>\n",
       "      <td>0.088025</td>\n",
       "      <td>0.085755</td>\n",
       "    </tr>\n",
       "  </tbody>\n",
       "</table>\n",
       "</div>"
      ],
      "text/plain": [
       "       awards_won?  region_encoding  department_enocding  \\\n",
       "51189            0         0.106182             0.058551   \n",
       "35949            0         0.081370             0.072439   \n",
       "36385            0         0.047840             0.072439   \n",
       "43913            0         0.081370             0.109720   \n",
       "9289             0         0.106182             0.088025   \n",
       "\n",
       "       recruitment_channel_encoding  \n",
       "51189                      0.083731  \n",
       "35949                      0.085755  \n",
       "36385                      0.085755  \n",
       "43913                      0.083731  \n",
       "9289                       0.085755  "
      ]
     },
     "execution_count": 91,
     "metadata": {},
     "output_type": "execute_result"
    }
   ],
   "source": [
    "X_train[['awards_won?',\n",
    " 'region_encoding',\n",
    " 'department_enocding',\n",
    " 'recruitment_channel_encoding']].head()"
   ]
  },
  {
   "cell_type": "markdown",
   "metadata": {},
   "source": [
    "As it can be seen that in the above columns, the values present are in the form of 0.08, 0.05 etc\n",
    "\n",
    "Hence the variance of these columns is very low(less than the threhold value)\n",
    "\n",
    "This variance is low not because the the columns are quasi constant, but because the the values in these columns are low, and hence the variance is also low.\n",
    "\n",
    "If i multiply the whole column by some weight say(100) , then it wont be considered as a quasi constnt column anymore by Variance Threshold"
   ]
  },
  {
   "cell_type": "code",
   "execution_count": 92,
   "metadata": {},
   "outputs": [
    {
     "name": "stdout",
     "output_type": "stream",
     "text": [
      "Non quasi const features =  15\n",
      "Quasi constant features = 2\n"
     ]
    },
    {
     "data": {
      "text/plain": [
       "['department_enocding', 'recruitment_channel_encoding']"
      ]
     },
     "execution_count": 92,
     "metadata": {},
     "output_type": "execute_result"
    }
   ],
   "source": [
    "X_train['region_encoding']=X_train['region_encoding']*100\n",
    "\n",
    "sel = VarianceThreshold(threshold=0.01)  # 0.1 indicates 99% of observations approximately\n",
    "\n",
    "sel.fit(X_train[features])\n",
    "\n",
    "print (\"Non quasi const features = \",sum(sel.get_support()))\n",
    "\n",
    "print(\"Quasi constant features =\",\n",
    "    len([\n",
    "        x for x in X_train[features].columns\n",
    "        if x not in X_train[features].columns[sel.get_support()]\n",
    "    ]))\n",
    "\n",
    "[x for x in X_train[features].columns if x not in X_train[features].columns[sel.get_support()]]"
   ]
  },
  {
   "cell_type": "code",
   "execution_count": 93,
   "metadata": {},
   "outputs": [],
   "source": [
    "#As it can be seen, region_encoding column is no more under quasi consnt columns\n",
    "\n",
    "#reversing the changes made\n",
    "\n",
    "X_train['region_encoding']=X_train['region_encoding']/100"
   ]
  },
  {
   "cell_type": "markdown",
   "metadata": {},
   "source": [
    "I wont be multiplying any weights to these columns as I will be using a tree-based classifier in which scaling is not required"
   ]
  },
  {
   "cell_type": "markdown",
   "metadata": {},
   "source": [
    "# Feature Selection"
   ]
  },
  {
   "cell_type": "markdown",
   "metadata": {},
   "source": [
    "----------------------RFE with Random Forest----------------- \n",
    "\n",
    "Setting the class-weight as balanced because our dataset is an imbalanced dataset\n",
    "\n",
    "max_depth signies the maximum depth of a decision tree\n",
    "\n",
    "n_estimators=number of decision trees in Random Forest, setting it to 20 will speed up the process as the default value is 100.\n",
    "\n",
    "After 20, the output remains the same, so increasing this value will only add overhead taking a lot of time to run"
   ]
  },
  {
   "cell_type": "code",
   "execution_count": 241,
   "metadata": {},
   "outputs": [
    {
     "name": "stdout",
     "output_type": "stream",
     "text": [
      "Chosen best 7 features by rfe: Index(['previous_year_rating', 'KPIs_met >80%', 'avg_training_score',\n",
      "       'region_encoding', 'department_enocding', 'performance_sum',\n",
      "       'total_training_points'],\n",
      "      dtype='object')\n"
     ]
    }
   ],
   "source": [
    "from sklearn.feature_selection import RFE\n",
    "\n",
    "FS_RFE_model = RandomForestClassifier(class_weight='balanced', random_state=1,n_jobs=-1,max_depth=10,n_estimators=20)  \n",
    "\n",
    "rfe = RFE(estimator=FS_RFE_model, n_features_to_select=7, step=1)\n",
    "rfe=rfe.fit(X_train[features], X_train['is_promoted'])\n",
    "\n",
    "print('Chosen best 7 features by rfe:',X_train[features].columns[rfe.support_])"
   ]
  },
  {
   "cell_type": "markdown",
   "metadata": {},
   "source": [
    "-------------------RFE with Random Forest and cross_validation-----------------------\n",
    "\n",
    "using the scoring metric as F1 scoring\n",
    "\n",
    "Setting the class-weight as balanced because our dataset is an imbalanced dataset\n",
    "\n",
    "Using Repeated Stratified K-Fold since we have an imbalanced data set\n",
    "\n",
    "Stratified K-Fold is used in case of imbalanced data set and Repeated is used as it Repeats Stratified K-Fold n times with different randomization in each repetition and will give a better performace\n",
    "\n",
    "n_repeats is the number of repeats and n_splits is the number of folds i.e 10 fold cross validation in this case"
   ]
  },
  {
   "cell_type": "markdown",
   "metadata": {},
   "source": [
    "Why scoring criteria is F1 and not accuracy ?\n",
    "\n",
    "Since we have an imbalanced data set, the accuracy will always be high \n",
    "\n",
    "The F1 Score is the 2*((precision*recall)/(precision+recall)).\n",
    "\n",
    "F1 score conveys the balance between the precision and the recall.\n",
    "\n",
    "Precision talks about how precise the model is out of those predicted positive, how many of them are actual positive.\n",
    "\n",
    "whereas\n",
    "\n",
    "Recall calculates how many of the Actual Positives our model capture through labeling it as Positive (True Positive).\n",
    "\n",
    "F1 Score is needed when we want to seek a balance between Precision and Recall\n",
    "\n",
    "Thus F1 scoring will be used as scoring criteria in all the following models"
   ]
  },
  {
   "cell_type": "code",
   "execution_count": 99,
   "metadata": {},
   "outputs": [
    {
     "name": "stdout",
     "output_type": "stream",
     "text": [
      "Optimal number of features : 7\n",
      "Best features : Index(['previous_year_rating', 'KPIs_met >80%', 'avg_training_score',\n",
      "       'region_encoding', 'department_enocding', 'performance_sum',\n",
      "       'total_training_points'],\n",
      "      dtype='object')\n"
     ]
    }
   ],
   "source": [
    "from sklearn.feature_selection import RFECV\n",
    "\n",
    "clf_rf_4 = RandomForestClassifier(class_weight='balanced', random_state=1,n_jobs=-1,max_depth=10,n_estimators=50) \n",
    "cv = RepeatedStratifiedKFold(n_splits=10, n_repeats=5, random_state=1)\n",
    "\n",
    "\n",
    "rfecv = RFECV(estimator=clf_rf_4, step=1, cv=cv,scoring='f1')  \n",
    "rfecv = rfecv.fit(X_train[features], X_train['is_promoted'])\n",
    "\n",
    "print('Optimal number of features :', rfecv.n_features_)\n",
    "print('Best features :', X_train[features].columns[rfecv.support_])"
   ]
  },
  {
   "cell_type": "code",
   "execution_count": 249,
   "metadata": {},
   "outputs": [
    {
     "data": {
      "image/png": "[encoded data removed]",
      "text/plain": [
       "<Figure size 432x288 with 1 Axes>"
      ]
     },
     "metadata": {
      "needs_background": "light"
     },
     "output_type": "display_data"
    }
   ],
   "source": [
    "import matplotlib.pyplot as plt\n",
    "plt.figure()\n",
    "plt.xlabel(\"Number of features selected\")\n",
    "plt.ylabel(\"Cross validation score of number of selected features\")\n",
    "plt.plot(range(1, len(rfecv.grid_scores_) + 1), rfecv.grid_scores_)\n",
    "plt.grid()\n",
    "plt.show()"
   ]
  },
  {
   "cell_type": "markdown",
   "metadata": {},
   "source": [
    "As we can see the optimal number of features obtained are 7 using \n",
    "Recursive Feature Elimnation with Cross-Validation"
   ]
  },
  {
   "cell_type": "markdown",
   "metadata": {},
   "source": [
    "---------Sequential Feature Selector (Forward)-----------------"
   ]
  },
  {
   "cell_type": "code",
   "execution_count": 245,
   "metadata": {},
   "outputs": [
    {
     "name": "stderr",
     "output_type": "stream",
     "text": [
      "[Parallel(n_jobs=-1)]: Using backend LokyBackend with 4 concurrent workers.\n",
      "[Parallel(n_jobs=-1)]: Done  17 out of  17 | elapsed:  3.0min finished\n",
      "\n",
      "[2020-07-27 19:59:30] Features: 1/17 -- score: 0.2754358534950247[Parallel(n_jobs=-1)]: Using backend LokyBackend with 4 concurrent workers.\n",
      "[Parallel(n_jobs=-1)]: Done  16 out of  16 | elapsed:  3.4min finished\n",
      "\n",
      "[2020-07-27 20:02:51] Features: 2/17 -- score: 0.28935765992456686[Parallel(n_jobs=-1)]: Using backend LokyBackend with 4 concurrent workers.\n",
      "[Parallel(n_jobs=-1)]: Done  15 out of  15 | elapsed:  3.6min finished\n",
      "\n",
      "[2020-07-27 20:06:28] Features: 3/17 -- score: 0.29583217797376327[Parallel(n_jobs=-1)]: Using backend LokyBackend with 4 concurrent workers.\n",
      "[Parallel(n_jobs=-1)]: Done  14 out of  14 | elapsed:  5.2min finished\n",
      "\n",
      "[2020-07-27 20:11:39] Features: 4/17 -- score: 0.34965686201079516[Parallel(n_jobs=-1)]: Using backend LokyBackend with 4 concurrent workers.\n",
      "[Parallel(n_jobs=-1)]: Done  13 out of  13 | elapsed:  6.3min remaining:    0.0s\n",
      "[Parallel(n_jobs=-1)]: Done  13 out of  13 | elapsed:  6.3min finished\n",
      "\n",
      "[2020-07-27 20:17:56] Features: 5/17 -- score: 0.36358935748246646[Parallel(n_jobs=-1)]: Using backend LokyBackend with 4 concurrent workers.\n",
      "[Parallel(n_jobs=-1)]: Done  12 out of  12 | elapsed:  6.2min remaining:    0.0s\n",
      "[Parallel(n_jobs=-1)]: Done  12 out of  12 | elapsed:  6.2min finished\n",
      "\n",
      "[2020-07-27 20:24:05] Features: 6/17 -- score: 0.36686448161066726[Parallel(n_jobs=-1)]: Using backend LokyBackend with 4 concurrent workers.\n",
      "[Parallel(n_jobs=-1)]: Done  11 out of  11 | elapsed:  6.2min finished\n",
      "\n",
      "[2020-07-27 20:30:17] Features: 7/17 -- score: 0.3670559042303419[Parallel(n_jobs=-1)]: Using backend LokyBackend with 4 concurrent workers.\n",
      "[Parallel(n_jobs=-1)]: Done  10 out of  10 | elapsed:  5.6min finished\n",
      "\n",
      "[2020-07-27 20:35:53] Features: 8/17 -- score: 0.3664074166571733[Parallel(n_jobs=-1)]: Using backend LokyBackend with 4 concurrent workers.\n",
      "[Parallel(n_jobs=-1)]: Done   7 out of   9 | elapsed:  5.7min remaining:  1.6min\n",
      "[Parallel(n_jobs=-1)]: Done   9 out of   9 | elapsed:  6.7min finished\n",
      "\n",
      "[2020-07-27 20:42:33] Features: 9/17 -- score: 0.3702720701618196[Parallel(n_jobs=-1)]: Using backend LokyBackend with 4 concurrent workers.\n",
      "[Parallel(n_jobs=-1)]: Done   6 out of   8 | elapsed:  5.8min remaining:  1.9min\n",
      "[Parallel(n_jobs=-1)]: Done   8 out of   8 | elapsed:  5.8min finished\n",
      "\n",
      "[2020-07-27 20:48:21] Features: 10/17 -- score: 0.37234864375408855[Parallel(n_jobs=-1)]: Using backend LokyBackend with 4 concurrent workers.\n",
      "[Parallel(n_jobs=-1)]: Done   4 out of   7 | elapsed:  3.0min remaining:  2.3min\n",
      "[Parallel(n_jobs=-1)]: Done   7 out of   7 | elapsed:  5.3min finished\n",
      "\n",
      "[2020-07-27 20:53:41] Features: 11/17 -- score: 0.3706364366116394[Parallel(n_jobs=-1)]: Using backend LokyBackend with 4 concurrent workers.\n",
      "[Parallel(n_jobs=-1)]: Done   3 out of   6 | elapsed:  3.1min remaining:  3.1min\n",
      "[Parallel(n_jobs=-1)]: Done   6 out of   6 | elapsed:  4.7min finished\n",
      "\n",
      "[2020-07-27 20:58:21] Features: 12/17 -- score: 0.3672718487892705[Parallel(n_jobs=-1)]: Using backend LokyBackend with 4 concurrent workers.\n",
      "[Parallel(n_jobs=-1)]: Done   5 out of   5 | elapsed:  4.2min finished\n",
      "\n",
      "[2020-07-27 21:02:34] Features: 13/17 -- score: 0.3661713744667145[Parallel(n_jobs=-1)]: Using backend LokyBackend with 4 concurrent workers.\n",
      "[Parallel(n_jobs=-1)]: Done   4 out of   4 | elapsed:  3.2min finished\n",
      "\n",
      "[2020-07-27 21:05:47] Features: 14/17 -- score: 0.3628679971035303[Parallel(n_jobs=-1)]: Using backend LokyBackend with 4 concurrent workers.\n",
      "[Parallel(n_jobs=-1)]: Done   3 out of   3 | elapsed:  2.4min finished\n",
      "\n",
      "[2020-07-27 21:08:12] Features: 15/17 -- score: 0.35862089658189056[Parallel(n_jobs=-1)]: Using backend LokyBackend with 4 concurrent workers.\n",
      "[Parallel(n_jobs=-1)]: Done   2 out of   2 | elapsed:  1.9min finished\n",
      "\n",
      "[2020-07-27 21:10:04] Features: 16/17 -- score: 0.36288443394558184[Parallel(n_jobs=-1)]: Using backend LokyBackend with 4 concurrent workers.\n"
     ]
    },
    {
     "name": "stdout",
     "output_type": "stream",
     "text": [
      "Selected Feature subset :  ('previous_year_rating', 'length_of_service', 'KPIs_met >80%', 'awards_won?', 'avg_training_score', 'gender_map', 'region_encoding', 'department_enocding', 'total_training_points', 'joining_age')\n"
     ]
    },
    {
     "name": "stderr",
     "output_type": "stream",
     "text": [
      "[Parallel(n_jobs=-1)]: Done   1 out of   1 | elapsed:  1.2min finished\n",
      "\n",
      "[2020-07-27 21:11:14] Features: 17/17 -- score: 0.35203414102138647"
     ]
    }
   ],
   "source": [
    "from mlxtend.feature_selection import SequentialFeatureSelector as sfs\n",
    "\n",
    "# Build RF classifier to use in feature selection\n",
    "clf = RandomForestClassifier(class_weight='balanced', random_state=1,n_jobs=-1,max_depth=10,n_estimators=50)\n",
    "cv = RepeatedStratifiedKFold(n_splits=10, n_repeats=5, random_state=1)\n",
    "# Build step forward feature selection\n",
    "sfs1 = sfs(clf,\n",
    "           k_features=(1,17),\n",
    "           forward=True,\n",
    "           floating=False,\n",
    "           verbose=2,\n",
    "           scoring='f1',\n",
    "           cv=cv,n_jobs=-1) \n",
    "\n",
    "sfs1 = sfs1.fit(X_train[features], X_train['is_promoted'])\n",
    "\n",
    "\n",
    "print(\"Selected Feature subset : \",sfs1.k_feature_names_)"
   ]
  },
  {
   "cell_type": "markdown",
   "metadata": {},
   "source": [
    "10 features were selected using this method"
   ]
  },
  {
   "cell_type": "code",
   "execution_count": 246,
   "metadata": {},
   "outputs": [
    {
     "data": {
      "image/png": "[encoded data removed]",
      "text/plain": [
       "<Figure size 432x288 with 1 Axes>"
      ]
     },
     "metadata": {
      "needs_background": "light"
     },
     "output_type": "display_data"
    }
   ],
   "source": [
    "from mlxtend.plotting import plot_sequential_feature_selection as plot_sfs\n",
    "fig=plot_sfs(sfs1.get_metric_dict(),kind='std_dev')\n",
    "plt.title(\"Performance of Sequential Forward Selection\")\n",
    "plt.grid()\n",
    "plt.show()"
   ]
  },
  {
   "cell_type": "markdown",
   "metadata": {},
   "source": [
    "From the above graph also it can be seen that the highest score was obtained at 10 features"
   ]
  },
  {
   "cell_type": "markdown",
   "metadata": {},
   "source": [
    "Feature importance graph will be plotted later after model selection and fitting\n",
    "\n",
    "Because I will be using another model(not Random Forest) for training the model"
   ]
  },
  {
   "cell_type": "code",
   "execution_count": 94,
   "metadata": {},
   "outputs": [],
   "source": [
    "sfs_features=['previous_year_rating', 'length_of_service', 'KPIs_met >80%', 'awards_won?', \n",
    "              'avg_training_score', 'gender_map', 'region_encoding', 'department_enocding', \n",
    "              'total_training_points', 'joining_age']\n",
    "\n",
    "\n",
    "rfe_features=['previous_year_rating', 'KPIs_met >80%',\n",
    "       'avg_training_score', 'region_encoding', 'department_enocding',\n",
    "       'performance_sum', 'total_training_points']"
   ]
  },
  {
   "cell_type": "code",
   "execution_count": 95,
   "metadata": {},
   "outputs": [
    {
     "data": {
      "text/plain": [
       "<matplotlib.axes._subplots.AxesSubplot at 0x25fb3a13ec8>"
      ]
     },
     "execution_count": 95,
     "metadata": {},
     "output_type": "execute_result"
    },
    {
     "data": {
      "image/png": "[encoded data removed]",
      "text/plain": [
       "<Figure size 432x288 with 1 Axes>"
      ]
     },
     "metadata": {
      "needs_background": "light"
     },
     "output_type": "display_data"
    }
   ],
   "source": [
    "X_train['is_promoted'].value_counts().plot(kind='bar')"
   ]
  },
  {
   "cell_type": "markdown",
   "metadata": {},
   "source": [
    "# Random Over Sampling "
   ]
  },
  {
   "cell_type": "markdown",
   "metadata": {},
   "source": [
    "Over Sampling is a process to increase the count of minority class\n",
    "\n",
    "As in the above graph it can be seen that our dataset is highly imbalanced\n",
    "\n",
    "So i will over-sample the minority class\n",
    "\n",
    "Under Sampling may result in loss of some important inferences for the model\n",
    "\n",
    "Thus I wont prefer under-sampling the dataset\n",
    "\n",
    "On the other hand, over-sampling will not result in loss of any data rather just make the imbalance ratio compartively low for the model to train better"
   ]
  },
  {
   "cell_type": "code",
   "execution_count": 96,
   "metadata": {},
   "outputs": [
    {
     "name": "stdout",
     "output_type": "stream",
     "text": [
      "Original Configuration : Counter({0: 35082, 1: 3283})\n",
      "After Over Sampling of the minority class  : Counter({0: 35082, 1: 10524})\n"
     ]
    }
   ],
   "source": [
    "X=X_train[features]\n",
    "y=X_train['is_promoted']\n",
    "# summarize class distribution\n",
    "print(\"Original Configuration :\",Counter(y))\n",
    "\n",
    "\n",
    "# define oversampling strategy\n",
    "over = RandomOverSampler(sampling_strategy=0.3)\n",
    "# fit and apply the transform\n",
    "X, y = over.fit_resample(X, y)\n",
    "# summarize class distribution\n",
    "print(\"After Over Sampling of the minority class  :\",Counter(y))\n"
   ]
  },
  {
   "cell_type": "markdown",
   "metadata": {},
   "source": [
    "Originally the ratio is around 10:1\n",
    "    \n",
    "After over sampling the ratio becomes 7:2\n",
    "    \n",
    "    i.e Compartively less imbalanced then the original class weights"
   ]
  },
  {
   "cell_type": "markdown",
   "metadata": {},
   "source": [
    "This over-sampled data will be used later while training the model"
   ]
  },
  {
   "cell_type": "markdown",
   "metadata": {},
   "source": [
    "# Model Training and Evaluation"
   ]
  },
  {
   "cell_type": "code",
   "execution_count": 97,
   "metadata": {},
   "outputs": [],
   "source": [
    "import lightgbm\n",
    "from sklearn.metrics import f1_score,accuracy_score,precision_score"
   ]
  },
  {
   "cell_type": "markdown",
   "metadata": {},
   "source": [
    "# Over Sampling"
   ]
  },
  {
   "cell_type": "code",
   "execution_count": 98,
   "metadata": {},
   "outputs": [
    {
     "data": {
      "text/plain": [
       "((45606, 10), (45606,), (16443, 10), (16443,))"
      ]
     },
     "execution_count": 98,
     "metadata": {},
     "output_type": "execute_result"
    }
   ],
   "source": [
    "over = RandomOverSampler(sampling_strategy=0.3,random_state=1)\n",
    "\n",
    "X=X_train[sfs_features]\n",
    "y=X_train['is_promoted']\n",
    "X, y = over.fit_resample(X, y)\n",
    "\n",
    "X_val=X_validation[sfs_features]\n",
    "y_val=X_validation['is_promoted']\n",
    "#X_val, y_val = over.fit_resample(X_val, y_val)\n",
    "\n",
    "X.shape,y.shape,X_val.shape,y_val.shape"
   ]
  },
  {
   "cell_type": "markdown",
   "metadata": {},
   "source": [
    "Performed over sampling only on the train part for better model performance\n",
    "\n",
    "Thus the dimension of Train data set increased from 35k to 45k"
   ]
  },
  {
   "cell_type": "markdown",
   "metadata": {},
   "source": [
    "# Logistic Regresion"
   ]
  },
  {
   "cell_type": "code",
   "execution_count": 113,
   "metadata": {},
   "outputs": [
    {
     "name": "stdout",
     "output_type": "stream",
     "text": [
      "Classification Report = \n",
      "               precision    recall  f1-score   support\n",
      "\n",
      "           0       0.95      0.93      0.94     15263\n",
      "           1       0.26      0.31      0.28      1180\n",
      "\n",
      "    accuracy                           0.89     16443\n",
      "   macro avg       0.60      0.62      0.61     16443\n",
      "weighted avg       0.90      0.89      0.89     16443\n",
      "\n"
     ]
    }
   ],
   "source": [
    "from sklearn.linear_model import LogisticRegression\n",
    "model=LogisticRegression()\n",
    "model.fit(X,y)\n",
    "y_pred=model.predict(X_val)\n",
    "y_pred=np.where(y_pred>0.5,1,0)\n",
    "print(\"Classification Report = \\n\",classification_report(y_pred, y_val))"
   ]
  },
  {
   "cell_type": "markdown",
   "metadata": {},
   "source": [
    "Scores for class 1 are too low. Probably other models will give a better score"
   ]
  },
  {
   "cell_type": "markdown",
   "metadata": {},
   "source": [
    "# Naive Bayes Classifier"
   ]
  },
  {
   "cell_type": "code",
   "execution_count": 112,
   "metadata": {},
   "outputs": [
    {
     "name": "stdout",
     "output_type": "stream",
     "text": [
      "Classification Report = \n",
      "               precision    recall  f1-score   support\n",
      "\n",
      "           0       0.96      0.93      0.94     15436\n",
      "           1       0.24      0.34      0.28      1007\n",
      "\n",
      "    accuracy                           0.90     16443\n",
      "   macro avg       0.60      0.63      0.61     16443\n",
      "weighted avg       0.91      0.90      0.90     16443\n",
      "\n"
     ]
    }
   ],
   "source": [
    "from sklearn.naive_bayes import GaussianNB\n",
    "model=GaussianNB()\n",
    "model.fit(X,y)\n",
    "y_pred=model.predict(X_val)\n",
    "y_pred=np.where(y_pred>0.5,1,0)\n",
    "print(\"Classification Report = \\n\",classification_report(y_pred, y_val))"
   ]
  },
  {
   "cell_type": "markdown",
   "metadata": {},
   "source": [
    "Still same.. No significant Result"
   ]
  },
  {
   "cell_type": "markdown",
   "metadata": {},
   "source": [
    "# Random Forest Classifier"
   ]
  },
  {
   "cell_type": "code",
   "execution_count": 231,
   "metadata": {},
   "outputs": [
    {
     "name": "stdout",
     "output_type": "stream",
     "text": [
      "Classification Report = \n",
      "               precision    recall  f1-score   support\n",
      "\n",
      "           0       0.74      0.98      0.84     11289\n",
      "           1       0.87      0.23      0.37      5154\n",
      "\n",
      "    accuracy                           0.75     16443\n",
      "   macro avg       0.81      0.61      0.61     16443\n",
      "weighted avg       0.78      0.75      0.70     16443\n",
      "\n"
     ]
    }
   ],
   "source": [
    "model=RandomForestClassifier(class_weight='balanced', random_state=1,n_jobs=-1,max_depth=10,n_estimators=50)\n",
    "model.fit(X,y)\n",
    "y_pred=model.predict(X_val)\n",
    "print(\"Classification Report = \\n\",classification_report(y_pred, y_val))"
   ]
  },
  {
   "cell_type": "markdown",
   "metadata": {},
   "source": [
    "Tree based models performed better \n",
    "\n",
    "Precision Scores are good\n",
    "\n",
    "Still need to work on recall\n",
    "\n",
    "Will try with some boosting algos"
   ]
  },
  {
   "cell_type": "code",
   "execution_count": 232,
   "metadata": {},
   "outputs": [
    {
     "name": "stdout",
     "output_type": "stream",
     "text": [
      "Feature: 0 previous_year_rating , Score: 0.10648\n",
      "Feature: 1 length_of_service , Score: 0.02207\n",
      "Feature: 2 KPIs_met >80% , Score: 0.31114\n",
      "Feature: 3 awards_won? , Score: 0.05063\n",
      "Feature: 4 avg_training_score , Score: 0.22101\n",
      "Feature: 5 gender_map , Score: 0.00563\n",
      "Feature: 6 region_encoding , Score: 0.04884\n",
      "Feature: 7 department_enocding , Score: 0.11192\n",
      "Feature: 8 total_training_points , Score: 0.09281\n",
      "Feature: 9 joining_age , Score: 0.02946\n"
     ]
    },
    {
     "data": {
      "image/png": "[encoded data removed]",
      "text/plain": [
       "<Figure size 432x288 with 1 Axes>"
      ]
     },
     "metadata": {
      "needs_background": "light"
     },
     "output_type": "display_data"
    }
   ],
   "source": [
    "importance = model.feature_importances_\n",
    "for i,v in enumerate(importance):\n",
    "    print('Feature: %0d %0s , Score: %.5f' % (i,sfs_features[i],v))\n",
    "# plot feature importance\n",
    "plt.bar([x for x in range(len(importance))], importance)\n",
    "plt.title(\"Feature Importance Graph\")\n",
    "plt.show()"
   ]
  },
  {
   "cell_type": "markdown",
   "metadata": {},
   "source": [
    "# Adaboost"
   ]
  },
  {
   "cell_type": "code",
   "execution_count": 110,
   "metadata": {},
   "outputs": [
    {
     "name": "stdout",
     "output_type": "stream",
     "text": [
      "Classification Report = \n",
      "               precision    recall  f1-score   support\n",
      "\n",
      "           0       0.93      0.94      0.94     14941\n",
      "           1       0.36      0.33      0.34      1502\n",
      "\n",
      "    accuracy                           0.88     16443\n",
      "   macro avg       0.65      0.64      0.64     16443\n",
      "weighted avg       0.88      0.88      0.88     16443\n",
      "\n"
     ]
    }
   ],
   "source": [
    "from sklearn.ensemble import AdaBoostClassifier\n",
    "model = AdaBoostClassifier(n_estimators=50,random_state=1)\n",
    "model.fit(X,y)\n",
    "y_pred=model.predict(X_val)\n",
    "print(\"Classification Report = \\n\",classification_report(y_pred, y_val))"
   ]
  },
  {
   "cell_type": "markdown",
   "metadata": {},
   "source": [
    "No significant changes seen.. "
   ]
  },
  {
   "cell_type": "markdown",
   "metadata": {},
   "source": [
    "# XG Boost"
   ]
  },
  {
   "cell_type": "markdown",
   "metadata": {},
   "source": [
    "Randomized Search for Hyper paramter tuning"
   ]
  },
  {
   "cell_type": "code",
   "execution_count": 115,
   "metadata": {},
   "outputs": [
    {
     "name": "stdout",
     "output_type": "stream",
     "text": [
      "F1 score = 0.5117157974300831\n",
      "Classification Report = \n",
      "               precision    recall  f1-score   support\n",
      "\n",
      "           0       0.96      0.95      0.96     15182\n",
      "           1       0.49      0.54      0.51      1261\n",
      "\n",
      "    accuracy                           0.92     16443\n",
      "   macro avg       0.73      0.75      0.73     16443\n",
      "weighted avg       0.92      0.92      0.92     16443\n",
      "\n"
     ]
    }
   ],
   "source": [
    "from sklearn.model_selection import RandomizedSearchCV\n",
    "import xgboost\n",
    "model=xgboost.XGBClassifier()\n",
    "model.fit(X,y)\n",
    "y_pred=model.predict(X_val)\n",
    "print(\"F1 score =\",f1_score(y_pred,y_val))\n",
    "print(\"Classification Report = \\n\",classification_report(y_pred, y_val))"
   ]
  },
  {
   "cell_type": "markdown",
   "metadata": {},
   "source": [
    "Much better Performance than AdaBoost\n",
    "\n",
    "But precision decreased and recall increased"
   ]
  },
  {
   "cell_type": "markdown",
   "metadata": {},
   "source": [
    "Model Training using these hyper paramters"
   ]
  },
  {
   "cell_type": "code",
   "execution_count": 116,
   "metadata": {},
   "outputs": [
    {
     "data": {
      "text/plain": [
       "<matplotlib.axes._subplots.AxesSubplot at 0x1d0c736be88>"
      ]
     },
     "execution_count": 116,
     "metadata": {},
     "output_type": "execute_result"
    },
    {
     "data": {
      "image/png": "[encoded data removed]",
      "text/plain": [
       "<Figure size 432x288 with 1 Axes>"
      ]
     },
     "metadata": {
      "needs_background": "light"
     },
     "output_type": "display_data"
    }
   ],
   "source": [
    "xgboost.plot_importance(model)"
   ]
  },
  {
   "cell_type": "markdown",
   "metadata": {},
   "source": [
    "# Light GBM"
   ]
  },
  {
   "cell_type": "code",
   "execution_count": 99,
   "metadata": {},
   "outputs": [
    {
     "name": "stdout",
     "output_type": "stream",
     "text": [
      "F1 score = 0.5236514522821577\n",
      "Classification Report = \n",
      "               precision    recall  f1-score   support\n",
      "\n",
      "           0       0.97      0.95      0.96     15418\n",
      "           1       0.46      0.62      0.52      1025\n",
      "\n",
      "    accuracy                           0.93     16443\n",
      "   macro avg       0.71      0.78      0.74     16443\n",
      "weighted avg       0.94      0.93      0.93     16443\n",
      "\n"
     ]
    }
   ],
   "source": [
    "from lightgbm import LGBMClassifier\n",
    "from sklearn.metrics import f1_score,accuracy_score,precision_score,recall_score,classification_report\n",
    "model=LGBMClassifier(n_jobs=-1, random_state=1)\n",
    "model.fit(X,y)\n",
    "y_pred=model.predict(X_val)\n",
    "print(\"F1 score =\",f1_score(y_pred,y_val))\n",
    "print(\"Classification Report = \\n\",classification_report(y_pred, y_val))"
   ]
  },
  {
   "cell_type": "markdown",
   "metadata": {},
   "source": [
    "Till far, the best score were seen in this model i.e Light GBM, so I will be using this model as my final model and further operations will be performed on this model"
   ]
  },
  {
   "cell_type": "markdown",
   "metadata": {},
   "source": [
    "# Hyper Parameter Tuning using Randomized Search"
   ]
  },
  {
   "cell_type": "code",
   "execution_count": 128,
   "metadata": {},
   "outputs": [
    {
     "name": "stdout",
     "output_type": "stream",
     "text": [
      "Best n_estimators = 900\n",
      "Best max_depth = 18\n",
      "Best Learning Rate = 0.3\n"
     ]
    }
   ],
   "source": [
    "from sklearn.model_selection import RandomizedSearchCV\n",
    "n_estimators=np.arange(0,1500,100)\n",
    "max_depth=np.arange(0,20,2)\n",
    "learning_rate=[0.1,0,2,0.3,0.4,0.5]\n",
    "hyperparameters=dict(n_estimators=n_estimators,max_depth=max_depth,learning_rate=learning_rate)\n",
    "cv = StratifiedKFold(n_splits=10, random_state=1)\n",
    "search = RandomizedSearchCV(model,hyperparameters, cv=cv,verbose=0,n_iter=50,n_jobs=-1,scoring=\"precision\",random_state=1)\n",
    "search.fit(X, y)\n",
    "print (\"Best n_estimators =\",search.best_estimator_.get_params()['n_estimators'])\n",
    "print (\"Best max_depth =\",search.best_estimator_.get_params()['max_depth'])\n",
    "print (\"Best Learning Rate =\",search.best_estimator_.get_params()['learning_rate'])"
   ]
  },
  {
   "cell_type": "markdown",
   "metadata": {},
   "source": [
    "Minisiming the range of n_estimators and increasing max_depth"
   ]
  },
  {
   "cell_type": "code",
   "execution_count": 131,
   "metadata": {},
   "outputs": [
    {
     "name": "stdout",
     "output_type": "stream",
     "text": [
      "Best n_estimators = 990\n",
      "Best max_depth = 19\n"
     ]
    }
   ],
   "source": [
    "n_estimators=np.arange(800,1000,10)\n",
    "max_depth=np.arange(15,30,2)\n",
    "hyperparameters=dict(n_estimators=n_estimators,max_depth=max_depth)\n",
    "cv = StratifiedKFold(n_splits=10, random_state=1)\n",
    "search = RandomizedSearchCV(model,hyperparameters, cv=cv,verbose=0,n_iter=20,n_jobs=-1,scoring=\"precision\",random_state=1)\n",
    "search.fit(X, y)\n",
    "print (\"Best n_estimators =\",search.best_estimator_.get_params()['n_estimators'])\n",
    "print (\"Best max_depth =\",search.best_estimator_.get_params()['max_depth'])"
   ]
  },
  {
   "cell_type": "markdown",
   "metadata": {},
   "source": [
    "Using this max_depth value to get best n_estimators"
   ]
  },
  {
   "cell_type": "code",
   "execution_count": 144,
   "metadata": {},
   "outputs": [
    {
     "name": "stdout",
     "output_type": "stream",
     "text": [
      "Best n_estimators = 1050\n",
      "Best max_depth = 19\n"
     ]
    }
   ],
   "source": [
    "n_estimators=np.arange(800,1200,50)\n",
    "hyperparameters=dict(n_estimators=n_estimators)\n",
    "cv = StratifiedKFold(n_splits=10, random_state=1)\n",
    "model=LGBMClassifier(n_jobs=-1, random_state=1,max_depth=19)\n",
    "search = RandomizedSearchCV(model,hyperparameters, cv=cv,verbose=0,n_iter=20,n_jobs=-1,scoring=\"precision\",random_state=1)\n",
    "search.fit(X, y)\n",
    "print (\"Best n_estimators =\",search.best_estimator_.get_params()['n_estimators'])\n",
    "print (\"Best max_depth =\",search.best_estimator_.get_params()['max_depth'])"
   ]
  },
  {
   "cell_type": "markdown",
   "metadata": {},
   "source": [
    "Using these hyper parameters in model"
   ]
  },
  {
   "cell_type": "code",
   "execution_count": 145,
   "metadata": {},
   "outputs": [
    {
     "name": "stdout",
     "output_type": "stream",
     "text": [
      "F1 =  0.47571606475716066\n",
      "Accuracy =  0.9231891990512681\n",
      "Precision =  0.41371841155234657\n"
     ]
    }
   ],
   "source": [
    "model=LGBMClassifier(objective=\"binary\",n_estimators=1050,n_jobs=-1,  max_depth=19, random_state=1,learning_rate=0.3)\n",
    "model.fit(X,y)\n",
    "y_pred=model.predict(X_val)\n",
    "print(\"F1 = \",f1_score(y_pred,y_val))\n",
    "print(\"Accuracy = \",accuracy_score(y_pred,y_val))\n",
    "print(\"Precision = \",precision_score(y_pred,y_val))"
   ]
  },
  {
   "cell_type": "markdown",
   "metadata": {},
   "source": [
    "Precision decreased on hyper tuning \n",
    "\n",
    "The default value of n_estimators i.e 100 performs best\n",
    "\n",
    "Thus I will be using that"
   ]
  },
  {
   "cell_type": "markdown",
   "metadata": {},
   "source": [
    "Hypertuning max depth when n_estimators in 100"
   ]
  },
  {
   "cell_type": "code",
   "execution_count": 162,
   "metadata": {},
   "outputs": [
    {
     "name": "stdout",
     "output_type": "stream",
     "text": [
      "Best max_depth = 12\n"
     ]
    }
   ],
   "source": [
    "max_depth=np.arange(5,20)\n",
    "hyperparameters=dict(max_depth=max_depth)\n",
    "model=model=LGBMClassifier(n_jobs=-1, random_state=1,n_estimators=100)\n",
    "cv = StratifiedKFold(n_splits=10, random_state=1)\n",
    "model=LGBMClassifier(n_jobs=-1, random_state=1,max_depth=19)\n",
    "search = RandomizedSearchCV(model,hyperparameters, cv=cv,verbose=0,n_iter=15,n_jobs=-1,scoring=\"f1\",random_state=1)\n",
    "search.fit(X, y)\n",
    "print (\"Best max_depth =\",search.best_estimator_.get_params()['max_depth'])"
   ]
  },
  {
   "cell_type": "code",
   "execution_count": 163,
   "metadata": {},
   "outputs": [
    {
     "name": "stdout",
     "output_type": "stream",
     "text": [
      "F1 =  0.4893455098934551\n",
      "Accuracy =  0.9183847229824241\n",
      "Precision =  0.4642599277978339\n"
     ]
    }
   ],
   "source": [
    "model=LGBMClassifier(objective=\"binary\",n_estimators=100,n_jobs=-1,  max_depth=12, random_state=1,learning_rate=0.3)\n",
    "model.fit(X,y)\n",
    "y_pred=model.predict(X_val)\n",
    "print(\"F1 = \",f1_score(y_pred,y_val))\n",
    "print(\"Accuracy = \",accuracy_score(y_pred,y_val))\n",
    "print(\"Precision = \",precision_score(y_pred,y_val))"
   ]
  },
  {
   "cell_type": "markdown",
   "metadata": {},
   "source": [
    "There is only 0.4 increase in precision and 2% decrease in accuracy \n",
    "\n",
    "Also F1 score decreased from 0.52 to 0.48\n",
    "\n",
    "So I will prefer manually tuning the values and see if I get better results"
   ]
  },
  {
   "cell_type": "markdown",
   "metadata": {},
   "source": [
    "Final Model ::"
   ]
  },
  {
   "cell_type": "code",
   "execution_count": 100,
   "metadata": {},
   "outputs": [
    {
     "name": "stdout",
     "output_type": "stream",
     "text": [
      "F1 score = 0.5236514522821577\n",
      "Classification Report = \n",
      "               precision    recall  f1-score   support\n",
      "\n",
      "           0       0.97      0.95      0.96     15418\n",
      "           1       0.46      0.62      0.52      1025\n",
      "\n",
      "    accuracy                           0.93     16443\n",
      "   macro avg       0.71      0.78      0.74     16443\n",
      "weighted avg       0.94      0.93      0.93     16443\n",
      "\n"
     ]
    }
   ],
   "source": [
    "from lightgbm import LGBMClassifier\n",
    "from sklearn.metrics import f1_score,accuracy_score,precision_score,recall_score,classification_report\n",
    "model=LGBMClassifier(objective=\"binary\",n_jobs=-1, random_state=1,max_depth=18)\n",
    "#binary objective is used when there are only 2 classes\n",
    "model.fit(X,y)\n",
    "y_pred=model.predict(X_val)\n",
    "print(\"F1 score =\",f1_score(y_pred,y_val))\n",
    "print(\"Classification Report = \\n\",classification_report(y_pred, y_val))"
   ]
  },
  {
   "cell_type": "markdown",
   "metadata": {},
   "source": [
    "After manual tuning the values obtained for\n",
    "\n",
    "max_depth =15\n",
    "\n",
    "and default value i.e 100 was used for n_estimators"
   ]
  },
  {
   "cell_type": "markdown",
   "metadata": {},
   "source": [
    "Feature importance graph can be seen as follows:"
   ]
  },
  {
   "cell_type": "code",
   "execution_count": 213,
   "metadata": {},
   "outputs": [
    {
     "data": {
      "text/plain": [
       "<matplotlib.axes._subplots.AxesSubplot at 0x1d0c7b4cf88>"
      ]
     },
     "execution_count": 213,
     "metadata": {},
     "output_type": "execute_result"
    },
    {
     "data": {
      "image/png": "[encoded data removed]",
      "text/plain": [
       "<Figure size 432x288 with 1 Axes>"
      ]
     },
     "metadata": {
      "needs_background": "light"
     },
     "output_type": "display_data"
    }
   ],
   "source": [
    "import lightgbm\n",
    "lightgbm.plot_importance(model)"
   ]
  },
  {
   "cell_type": "markdown",
   "metadata": {},
   "source": [
    "Evaluation Metrics :"
   ]
  },
  {
   "cell_type": "code",
   "execution_count": 214,
   "metadata": {},
   "outputs": [
    {
     "data": {
      "text/plain": [
       "<sklearn.metrics._plot.confusion_matrix.ConfusionMatrixDisplay at 0x1d0c7a0c5c8>"
      ]
     },
     "execution_count": 214,
     "metadata": {},
     "output_type": "execute_result"
    },
    {
     "data": {
      "image/png": "[encoded data removed]",
      "text/plain": [
       "<Figure size 432x288 with 2 Axes>"
      ]
     },
     "metadata": {
      "needs_background": "light"
     },
     "output_type": "display_data"
    }
   ],
   "source": [
    "from sklearn.metrics import plot_confusion_matrix\n",
    "plot_confusion_matrix(model, X_val, y_val)"
   ]
  },
  {
   "cell_type": "markdown",
   "metadata": {},
   "source": [
    "ROC Score :"
   ]
  },
  {
   "cell_type": "code",
   "execution_count": 220,
   "metadata": {},
   "outputs": [
    {
     "data": {
      "text/plain": [
       "0.7833529387570436"
      ]
     },
     "execution_count": 220,
     "metadata": {},
     "output_type": "execute_result"
    }
   ],
   "source": [
    "from sklearn.metrics import roc_auc_score\n",
    "roc_auc_score(y_pred,y_val)"
   ]
  },
  {
   "cell_type": "markdown",
   "metadata": {},
   "source": [
    "Precision- Recall Curve\n",
    "\n",
    "Precision-Recall curves should be used when there is a moderate to large class imbalance"
   ]
  },
  {
   "cell_type": "code",
   "execution_count": 227,
   "metadata": {},
   "outputs": [
    {
     "name": "stdout",
     "output_type": "stream",
     "text": [
      "Logistic: f1=0.524 auc=0.616\n"
     ]
    },
    {
     "data": {
      "image/png": "[encoded data removed]",
      "text/plain": [
       "<Figure size 432x288 with 1 Axes>"
      ]
     },
     "metadata": {
      "needs_background": "light"
     },
     "output_type": "display_data"
    }
   ],
   "source": [
    "from sklearn.metrics import precision_recall_curve\n",
    "from sklearn.metrics import auc\n",
    "lr_probs = model.predict_proba(X_val)\n",
    "# keep probabilities for the positive outcome only\n",
    "lr_probs = lr_probs[:, 1]\n",
    "# predict class values\n",
    "yhat = model.predict(X_val)\n",
    "lr_precision, lr_recall, _ = precision_recall_curve(y_val, lr_probs)\n",
    "lr_f1, lr_auc = f1_score(y_val, yhat), auc(lr_recall, lr_precision)\n",
    "# summarize scores\n",
    "print('Logistic: f1=%.3f auc=%.3f' % (lr_f1, lr_auc))\n",
    "# plot the precision-recall curves\n",
    "no_skill = len(y_val[y_val==1]) / len(y_val)\n",
    "pyplot.plot(lr_recall, lr_precision, marker='.', label='LGBM')\n",
    "# axis labels\n",
    "pyplot.xlabel('Recall')\n",
    "pyplot.ylabel('Precision')\n",
    "pyplot.legend()\n",
    "pyplot.show()"
   ]
  },
  {
   "cell_type": "markdown",
   "metadata": {},
   "source": [
    "# Cross-Validation on Light GBM Classifier"
   ]
  },
  {
   "cell_type": "code",
   "execution_count": 234,
   "metadata": {},
   "outputs": [
    {
     "name": "stdout",
     "output_type": "stream",
     "text": [
      "F1 Score: 0.503\n",
      "Accuracy Score: 0.942\n",
      "Precision Score: 0.909\n",
      "Recall Score: 0.349\n"
     ]
    }
   ],
   "source": [
    "from sklearn.metrics import recall_score\n",
    "cv = RepeatedStratifiedKFold(n_splits=10, n_repeats=5, random_state=1)\n",
    "scores = cross_val_score(model, X_val, y_val, scoring='f1', cv=cv, n_jobs=-1)\n",
    "scores1 = cross_val_score(model, X_val, y_val, scoring='accuracy', cv=cv, n_jobs=-1)\n",
    "scores2 = cross_val_score(model, X_val, y_val, scoring='precision', cv=cv, n_jobs=-1)\n",
    "scores3 = cross_val_score(model, X_val, y_val, scoring='recall', cv=cv, n_jobs=-1)\n",
    "print('F1 Score: %.3f' % mean(scores))\n",
    "print('Accuracy Score: %.3f' % mean(scores1))\n",
    "print('Precision Score: %.3f' % mean(scores2))\n",
    "print('Recall Score: %.3f' % mean(scores3))"
   ]
  },
  {
   "cell_type": "markdown",
   "metadata": {},
   "source": [
    "Scores obtained and good\n",
    "\n",
    "Recall values are also satisfactory"
   ]
  },
  {
   "cell_type": "markdown",
   "metadata": {},
   "source": [
    "# Test Data Set"
   ]
  },
  {
   "cell_type": "code",
   "execution_count": 102,
   "metadata": {},
   "outputs": [
    {
     "data": {
      "text/plain": [
       "(23490, 10)"
      ]
     },
     "execution_count": 102,
     "metadata": {},
     "output_type": "execute_result"
    }
   ],
   "source": [
    "test=pd.read_csv(r'test_2umaH9m.csv')\n",
    "test.previous_year_rating=test.previous_year_rating.fillna(0.0)\n",
    "test.education=test.education.groupby(data['age']).fillna(data['education'].mode()[0])\n",
    "test['gender_map'] = test.gender.map({'f':0, 'm':1})\n",
    "test['education_map']=test.education.map({'Below Secondary':1,\"Bachelor's\":2,\"Master's & above\":3})\n",
    "test['region_encoding']=test['region'].map(region_encoding)\n",
    "test['department_enocding']=test['department'].map(department_encoding)\n",
    "test['performance_sum']=test['awards_won?']+test['KPIs_met >80%']+test['previous_year_rating']\n",
    "test['total_training_points']=test['avg_training_score']*test['no_of_trainings']\n",
    "test['joining_age']=test['age']-test['length_of_service']\n",
    "test[sfs_features].shape"
   ]
  },
  {
   "cell_type": "code",
   "execution_count": 103,
   "metadata": {},
   "outputs": [
    {
     "data": {
      "text/plain": [
       "array([0, 0, 0, ..., 0, 0, 1], dtype=int64)"
      ]
     },
     "execution_count": 103,
     "metadata": {},
     "output_type": "execute_result"
    }
   ],
   "source": [
    "sub=model.predict(test[sfs_features])\n",
    "sub"
   ]
  },
  {
   "cell_type": "code",
   "execution_count": 105,
   "metadata": {},
   "outputs": [],
   "source": [
    "submission=pd.DataFrame({'employee_id':test['employee_id'],'is_promoted':sub})\n",
    "submission=submission[['employee_id','is_promoted']]\n",
    "submission.head()\n",
    "submission.to_csv('submit.csv',index=False) "
   ]
  },
  {
   "cell_type": "code",
   "execution_count": null,
   "metadata": {},
   "outputs": [],
   "source": []
  }
 ],
 "metadata": {
  "kernelspec": {
   "display_name": "Python 3",
   "language": "python",
   "name": "python3"
  },
  "language_info": {
   "codemirror_mode": {
    "name": "ipython",
    "version": 3
   },
   "file_extension": ".py",
   "mimetype": "text/x-python",
   "name": "python",
   "nbconvert_exporter": "python",
   "pygments_lexer": "ipython3",
   "version": "3.7.6"
  }
 },
 "nbformat": 4,
 "nbformat_minor": 4
}
